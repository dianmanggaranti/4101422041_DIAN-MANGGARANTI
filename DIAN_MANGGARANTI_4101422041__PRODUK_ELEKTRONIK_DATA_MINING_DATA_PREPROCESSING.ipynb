{
  "cells": [
    {
      "cell_type": "code",
      "execution_count": 12,
      "id": "9b0150ee",
      "metadata": {
        "scrolled": true,
        "id": "9b0150ee"
      },
      "outputs": [],
      "source": [
        "import pandas as pd\n",
        "import numpy as np\n",
        "import matplotlib.pyplot as plt"
      ]
    },
    {
      "cell_type": "code",
      "execution_count": 13,
      "id": "4e723679",
      "metadata": {
        "scrolled": false,
        "id": "4e723679"
      },
      "outputs": [],
      "source": [
        "#pemanggilan data\n",
        "data = pd.read_csv(\"/content/drive/MyDrive/produk_elektronik.csv\")"
      ]
    },
    {
      "cell_type": "code",
      "source": [
        "from google.colab import drive\n",
        "drive.mount('/content/drive')"
      ],
      "metadata": {
        "id": "Fu7343I-3xYl",
        "colab": {
          "base_uri": "https://localhost:8080/"
        },
        "outputId": "b82505bb-1437-426f-a6af-2f56abd8fa1d"
      },
      "id": "Fu7343I-3xYl",
      "execution_count": 14,
      "outputs": [
        {
          "output_type": "stream",
          "name": "stdout",
          "text": [
            "Drive already mounted at /content/drive; to attempt to forcibly remount, call drive.mount(\"/content/drive\", force_remount=True).\n"
          ]
        }
      ]
    },
    {
      "cell_type": "code",
      "execution_count": 15,
      "id": "81e45b78",
      "metadata": {
        "id": "81e45b78",
        "colab": {
          "base_uri": "https://localhost:8080/",
          "height": 206
        },
        "outputId": "fcf9bd19-8b09-47c0-94cd-dc0f6a395caf"
      },
      "outputs": [
        {
          "output_type": "execute_result",
          "data": {
            "text/plain": [
              "   produk_id nama_produk    kategori  harga  rating  jumlah_ulasan  \\\n",
              "0          1    Produk_1  Smartwatch  746.0     4.2          273.0   \n",
              "1          2    Produk_2   Headphone  241.0     3.5          239.0   \n",
              "2          3    Produk_3      Tablet  810.0     3.8          209.0   \n",
              "3          4    Produk_4   Headphone  303.0     3.2           59.0   \n",
              "4          5    Produk_5   Headphone  252.0     3.7           76.0   \n",
              "\n",
              "   negara_asal  \n",
              "0        Japan  \n",
              "1       Canada  \n",
              "2       Canada  \n",
              "3  South Korea  \n",
              "4  South Korea  "
            ],
            "text/html": [
              "\n",
              "  <div id=\"df-28af8f08-4e40-4292-8c9e-b4c4363aefe9\" class=\"colab-df-container\">\n",
              "    <div>\n",
              "<style scoped>\n",
              "    .dataframe tbody tr th:only-of-type {\n",
              "        vertical-align: middle;\n",
              "    }\n",
              "\n",
              "    .dataframe tbody tr th {\n",
              "        vertical-align: top;\n",
              "    }\n",
              "\n",
              "    .dataframe thead th {\n",
              "        text-align: right;\n",
              "    }\n",
              "</style>\n",
              "<table border=\"1\" class=\"dataframe\">\n",
              "  <thead>\n",
              "    <tr style=\"text-align: right;\">\n",
              "      <th></th>\n",
              "      <th>produk_id</th>\n",
              "      <th>nama_produk</th>\n",
              "      <th>kategori</th>\n",
              "      <th>harga</th>\n",
              "      <th>rating</th>\n",
              "      <th>jumlah_ulasan</th>\n",
              "      <th>negara_asal</th>\n",
              "    </tr>\n",
              "  </thead>\n",
              "  <tbody>\n",
              "    <tr>\n",
              "      <th>0</th>\n",
              "      <td>1</td>\n",
              "      <td>Produk_1</td>\n",
              "      <td>Smartwatch</td>\n",
              "      <td>746.0</td>\n",
              "      <td>4.2</td>\n",
              "      <td>273.0</td>\n",
              "      <td>Japan</td>\n",
              "    </tr>\n",
              "    <tr>\n",
              "      <th>1</th>\n",
              "      <td>2</td>\n",
              "      <td>Produk_2</td>\n",
              "      <td>Headphone</td>\n",
              "      <td>241.0</td>\n",
              "      <td>3.5</td>\n",
              "      <td>239.0</td>\n",
              "      <td>Canada</td>\n",
              "    </tr>\n",
              "    <tr>\n",
              "      <th>2</th>\n",
              "      <td>3</td>\n",
              "      <td>Produk_3</td>\n",
              "      <td>Tablet</td>\n",
              "      <td>810.0</td>\n",
              "      <td>3.8</td>\n",
              "      <td>209.0</td>\n",
              "      <td>Canada</td>\n",
              "    </tr>\n",
              "    <tr>\n",
              "      <th>3</th>\n",
              "      <td>4</td>\n",
              "      <td>Produk_4</td>\n",
              "      <td>Headphone</td>\n",
              "      <td>303.0</td>\n",
              "      <td>3.2</td>\n",
              "      <td>59.0</td>\n",
              "      <td>South Korea</td>\n",
              "    </tr>\n",
              "    <tr>\n",
              "      <th>4</th>\n",
              "      <td>5</td>\n",
              "      <td>Produk_5</td>\n",
              "      <td>Headphone</td>\n",
              "      <td>252.0</td>\n",
              "      <td>3.7</td>\n",
              "      <td>76.0</td>\n",
              "      <td>South Korea</td>\n",
              "    </tr>\n",
              "  </tbody>\n",
              "</table>\n",
              "</div>\n",
              "    <div class=\"colab-df-buttons\">\n",
              "\n",
              "  <div class=\"colab-df-container\">\n",
              "    <button class=\"colab-df-convert\" onclick=\"convertToInteractive('df-28af8f08-4e40-4292-8c9e-b4c4363aefe9')\"\n",
              "            title=\"Convert this dataframe to an interactive table.\"\n",
              "            style=\"display:none;\">\n",
              "\n",
              "  <svg xmlns=\"http://www.w3.org/2000/svg\" height=\"24px\" viewBox=\"0 -960 960 960\">\n",
              "    <path d=\"M120-120v-720h720v720H120Zm60-500h600v-160H180v160Zm220 220h160v-160H400v160Zm0 220h160v-160H400v160ZM180-400h160v-160H180v160Zm440 0h160v-160H620v160ZM180-180h160v-160H180v160Zm440 0h160v-160H620v160Z\"/>\n",
              "  </svg>\n",
              "    </button>\n",
              "\n",
              "  <style>\n",
              "    .colab-df-container {\n",
              "      display:flex;\n",
              "      gap: 12px;\n",
              "    }\n",
              "\n",
              "    .colab-df-convert {\n",
              "      background-color: #E8F0FE;\n",
              "      border: none;\n",
              "      border-radius: 50%;\n",
              "      cursor: pointer;\n",
              "      display: none;\n",
              "      fill: #1967D2;\n",
              "      height: 32px;\n",
              "      padding: 0 0 0 0;\n",
              "      width: 32px;\n",
              "    }\n",
              "\n",
              "    .colab-df-convert:hover {\n",
              "      background-color: #E2EBFA;\n",
              "      box-shadow: 0px 1px 2px rgba(60, 64, 67, 0.3), 0px 1px 3px 1px rgba(60, 64, 67, 0.15);\n",
              "      fill: #174EA6;\n",
              "    }\n",
              "\n",
              "    .colab-df-buttons div {\n",
              "      margin-bottom: 4px;\n",
              "    }\n",
              "\n",
              "    [theme=dark] .colab-df-convert {\n",
              "      background-color: #3B4455;\n",
              "      fill: #D2E3FC;\n",
              "    }\n",
              "\n",
              "    [theme=dark] .colab-df-convert:hover {\n",
              "      background-color: #434B5C;\n",
              "      box-shadow: 0px 1px 3px 1px rgba(0, 0, 0, 0.15);\n",
              "      filter: drop-shadow(0px 1px 2px rgba(0, 0, 0, 0.3));\n",
              "      fill: #FFFFFF;\n",
              "    }\n",
              "  </style>\n",
              "\n",
              "    <script>\n",
              "      const buttonEl =\n",
              "        document.querySelector('#df-28af8f08-4e40-4292-8c9e-b4c4363aefe9 button.colab-df-convert');\n",
              "      buttonEl.style.display =\n",
              "        google.colab.kernel.accessAllowed ? 'block' : 'none';\n",
              "\n",
              "      async function convertToInteractive(key) {\n",
              "        const element = document.querySelector('#df-28af8f08-4e40-4292-8c9e-b4c4363aefe9');\n",
              "        const dataTable =\n",
              "          await google.colab.kernel.invokeFunction('convertToInteractive',\n",
              "                                                    [key], {});\n",
              "        if (!dataTable) return;\n",
              "\n",
              "        const docLinkHtml = 'Like what you see? Visit the ' +\n",
              "          '<a target=\"_blank\" href=https://colab.research.google.com/notebooks/data_table.ipynb>data table notebook</a>'\n",
              "          + ' to learn more about interactive tables.';\n",
              "        element.innerHTML = '';\n",
              "        dataTable['output_type'] = 'display_data';\n",
              "        await google.colab.output.renderOutput(dataTable, element);\n",
              "        const docLink = document.createElement('div');\n",
              "        docLink.innerHTML = docLinkHtml;\n",
              "        element.appendChild(docLink);\n",
              "      }\n",
              "    </script>\n",
              "  </div>\n",
              "\n",
              "\n",
              "<div id=\"df-3afdbafd-b9be-40ef-8a43-77dbd782f84c\">\n",
              "  <button class=\"colab-df-quickchart\" onclick=\"quickchart('df-3afdbafd-b9be-40ef-8a43-77dbd782f84c')\"\n",
              "            title=\"Suggest charts\"\n",
              "            style=\"display:none;\">\n",
              "\n",
              "<svg xmlns=\"http://www.w3.org/2000/svg\" height=\"24px\"viewBox=\"0 0 24 24\"\n",
              "     width=\"24px\">\n",
              "    <g>\n",
              "        <path d=\"M19 3H5c-1.1 0-2 .9-2 2v14c0 1.1.9 2 2 2h14c1.1 0 2-.9 2-2V5c0-1.1-.9-2-2-2zM9 17H7v-7h2v7zm4 0h-2V7h2v10zm4 0h-2v-4h2v4z\"/>\n",
              "    </g>\n",
              "</svg>\n",
              "  </button>\n",
              "\n",
              "<style>\n",
              "  .colab-df-quickchart {\n",
              "      --bg-color: #E8F0FE;\n",
              "      --fill-color: #1967D2;\n",
              "      --hover-bg-color: #E2EBFA;\n",
              "      --hover-fill-color: #174EA6;\n",
              "      --disabled-fill-color: #AAA;\n",
              "      --disabled-bg-color: #DDD;\n",
              "  }\n",
              "\n",
              "  [theme=dark] .colab-df-quickchart {\n",
              "      --bg-color: #3B4455;\n",
              "      --fill-color: #D2E3FC;\n",
              "      --hover-bg-color: #434B5C;\n",
              "      --hover-fill-color: #FFFFFF;\n",
              "      --disabled-bg-color: #3B4455;\n",
              "      --disabled-fill-color: #666;\n",
              "  }\n",
              "\n",
              "  .colab-df-quickchart {\n",
              "    background-color: var(--bg-color);\n",
              "    border: none;\n",
              "    border-radius: 50%;\n",
              "    cursor: pointer;\n",
              "    display: none;\n",
              "    fill: var(--fill-color);\n",
              "    height: 32px;\n",
              "    padding: 0;\n",
              "    width: 32px;\n",
              "  }\n",
              "\n",
              "  .colab-df-quickchart:hover {\n",
              "    background-color: var(--hover-bg-color);\n",
              "    box-shadow: 0 1px 2px rgba(60, 64, 67, 0.3), 0 1px 3px 1px rgba(60, 64, 67, 0.15);\n",
              "    fill: var(--button-hover-fill-color);\n",
              "  }\n",
              "\n",
              "  .colab-df-quickchart-complete:disabled,\n",
              "  .colab-df-quickchart-complete:disabled:hover {\n",
              "    background-color: var(--disabled-bg-color);\n",
              "    fill: var(--disabled-fill-color);\n",
              "    box-shadow: none;\n",
              "  }\n",
              "\n",
              "  .colab-df-spinner {\n",
              "    border: 2px solid var(--fill-color);\n",
              "    border-color: transparent;\n",
              "    border-bottom-color: var(--fill-color);\n",
              "    animation:\n",
              "      spin 1s steps(1) infinite;\n",
              "  }\n",
              "\n",
              "  @keyframes spin {\n",
              "    0% {\n",
              "      border-color: transparent;\n",
              "      border-bottom-color: var(--fill-color);\n",
              "      border-left-color: var(--fill-color);\n",
              "    }\n",
              "    20% {\n",
              "      border-color: transparent;\n",
              "      border-left-color: var(--fill-color);\n",
              "      border-top-color: var(--fill-color);\n",
              "    }\n",
              "    30% {\n",
              "      border-color: transparent;\n",
              "      border-left-color: var(--fill-color);\n",
              "      border-top-color: var(--fill-color);\n",
              "      border-right-color: var(--fill-color);\n",
              "    }\n",
              "    40% {\n",
              "      border-color: transparent;\n",
              "      border-right-color: var(--fill-color);\n",
              "      border-top-color: var(--fill-color);\n",
              "    }\n",
              "    60% {\n",
              "      border-color: transparent;\n",
              "      border-right-color: var(--fill-color);\n",
              "    }\n",
              "    80% {\n",
              "      border-color: transparent;\n",
              "      border-right-color: var(--fill-color);\n",
              "      border-bottom-color: var(--fill-color);\n",
              "    }\n",
              "    90% {\n",
              "      border-color: transparent;\n",
              "      border-bottom-color: var(--fill-color);\n",
              "    }\n",
              "  }\n",
              "</style>\n",
              "\n",
              "  <script>\n",
              "    async function quickchart(key) {\n",
              "      const quickchartButtonEl =\n",
              "        document.querySelector('#' + key + ' button');\n",
              "      quickchartButtonEl.disabled = true;  // To prevent multiple clicks.\n",
              "      quickchartButtonEl.classList.add('colab-df-spinner');\n",
              "      try {\n",
              "        const charts = await google.colab.kernel.invokeFunction(\n",
              "            'suggestCharts', [key], {});\n",
              "      } catch (error) {\n",
              "        console.error('Error during call to suggestCharts:', error);\n",
              "      }\n",
              "      quickchartButtonEl.classList.remove('colab-df-spinner');\n",
              "      quickchartButtonEl.classList.add('colab-df-quickchart-complete');\n",
              "    }\n",
              "    (() => {\n",
              "      let quickchartButtonEl =\n",
              "        document.querySelector('#df-3afdbafd-b9be-40ef-8a43-77dbd782f84c button');\n",
              "      quickchartButtonEl.style.display =\n",
              "        google.colab.kernel.accessAllowed ? 'block' : 'none';\n",
              "    })();\n",
              "  </script>\n",
              "</div>\n",
              "\n",
              "    </div>\n",
              "  </div>\n"
            ],
            "application/vnd.google.colaboratory.intrinsic+json": {
              "type": "dataframe",
              "variable_name": "data",
              "summary": "{\n  \"name\": \"data\",\n  \"rows\": 550,\n  \"fields\": [\n    {\n      \"column\": \"produk_id\",\n      \"properties\": {\n        \"dtype\": \"number\",\n        \"std\": 158,\n        \"min\": 1,\n        \"max\": 550,\n        \"num_unique_values\": 550,\n        \"samples\": [\n          196,\n          80,\n          481\n        ],\n        \"semantic_type\": \"\",\n        \"description\": \"\"\n      }\n    },\n    {\n      \"column\": \"nama_produk\",\n      \"properties\": {\n        \"dtype\": \"string\",\n        \"num_unique_values\": 550,\n        \"samples\": [\n          \"Produk_196\",\n          \"Produk_80\",\n          \"Produk_481\"\n        ],\n        \"semantic_type\": \"\",\n        \"description\": \"\"\n      }\n    },\n    {\n      \"column\": \"kategori\",\n      \"properties\": {\n        \"dtype\": \"category\",\n        \"num_unique_values\": 6,\n        \"samples\": [\n          \"Smartwatch\",\n          \"Headphone\",\n          \"Smartphone\"\n        ],\n        \"semantic_type\": \"\",\n        \"description\": \"\"\n      }\n    },\n    {\n      \"column\": \"harga\",\n      \"properties\": {\n        \"dtype\": \"number\",\n        \"std\": 625.8867249279893,\n        \"min\": -213.0,\n        \"max\": 8341.0,\n        \"num_unique_values\": 394,\n        \"samples\": [\n          388.0,\n          492.0,\n          418.0\n        ],\n        \"semantic_type\": \"\",\n        \"description\": \"\"\n      }\n    },\n    {\n      \"column\": \"rating\",\n      \"properties\": {\n        \"dtype\": \"number\",\n        \"std\": 0.5710523983693329,\n        \"min\": 3.0,\n        \"max\": 5.0,\n        \"num_unique_values\": 21,\n        \"samples\": [\n          4.2,\n          4.3,\n          5.0\n        ],\n        \"semantic_type\": \"\",\n        \"description\": \"\"\n      }\n    },\n    {\n      \"column\": \"jumlah_ulasan\",\n      \"properties\": {\n        \"dtype\": \"number\",\n        \"std\": 142.65537992151366,\n        \"min\": 12.0,\n        \"max\": 499.0,\n        \"num_unique_values\": 327,\n        \"samples\": [\n          212.0,\n          172.0,\n          375.0\n        ],\n        \"semantic_type\": \"\",\n        \"description\": \"\"\n      }\n    },\n    {\n      \"column\": \"negara_asal\",\n      \"properties\": {\n        \"dtype\": \"category\",\n        \"num_unique_values\": 9,\n        \"samples\": [\n          \"India\",\n          \"Canada\",\n          \"Germany\"\n        ],\n        \"semantic_type\": \"\",\n        \"description\": \"\"\n      }\n    }\n  ]\n}"
            }
          },
          "metadata": {},
          "execution_count": 15
        }
      ],
      "source": [
        "data.head()"
      ]
    },
    {
      "cell_type": "code",
      "execution_count": 16,
      "id": "91b37da4",
      "metadata": {
        "id": "91b37da4",
        "colab": {
          "base_uri": "https://localhost:8080/",
          "height": 206
        },
        "outputId": "4af66b60-98c4-403a-dda6-9a5310d4d85a"
      },
      "outputs": [
        {
          "output_type": "execute_result",
          "data": {
            "text/plain": [
              "     produk_id nama_produk   kategori  harga  rating  jumlah_ulasan  \\\n",
              "545        546  Produk_546     Laptop  496.0     3.9           19.0   \n",
              "546        547  Produk_547  Headphone  628.0     4.7          414.0   \n",
              "547        548  Produk_548     Tablet  465.0     4.3          393.0   \n",
              "548        549  Produk_549     Laptop  495.0     3.1          311.0   \n",
              "549        550  Produk_550     Tablet  388.0     4.3          240.0   \n",
              "\n",
              "    negara_asal  \n",
              "545       China  \n",
              "546         USA  \n",
              "547       India  \n",
              "548     Germany  \n",
              "549     Germany  "
            ],
            "text/html": [
              "\n",
              "  <div id=\"df-8e814020-a81a-4c26-b126-01dae889e538\" class=\"colab-df-container\">\n",
              "    <div>\n",
              "<style scoped>\n",
              "    .dataframe tbody tr th:only-of-type {\n",
              "        vertical-align: middle;\n",
              "    }\n",
              "\n",
              "    .dataframe tbody tr th {\n",
              "        vertical-align: top;\n",
              "    }\n",
              "\n",
              "    .dataframe thead th {\n",
              "        text-align: right;\n",
              "    }\n",
              "</style>\n",
              "<table border=\"1\" class=\"dataframe\">\n",
              "  <thead>\n",
              "    <tr style=\"text-align: right;\">\n",
              "      <th></th>\n",
              "      <th>produk_id</th>\n",
              "      <th>nama_produk</th>\n",
              "      <th>kategori</th>\n",
              "      <th>harga</th>\n",
              "      <th>rating</th>\n",
              "      <th>jumlah_ulasan</th>\n",
              "      <th>negara_asal</th>\n",
              "    </tr>\n",
              "  </thead>\n",
              "  <tbody>\n",
              "    <tr>\n",
              "      <th>545</th>\n",
              "      <td>546</td>\n",
              "      <td>Produk_546</td>\n",
              "      <td>Laptop</td>\n",
              "      <td>496.0</td>\n",
              "      <td>3.9</td>\n",
              "      <td>19.0</td>\n",
              "      <td>China</td>\n",
              "    </tr>\n",
              "    <tr>\n",
              "      <th>546</th>\n",
              "      <td>547</td>\n",
              "      <td>Produk_547</td>\n",
              "      <td>Headphone</td>\n",
              "      <td>628.0</td>\n",
              "      <td>4.7</td>\n",
              "      <td>414.0</td>\n",
              "      <td>USA</td>\n",
              "    </tr>\n",
              "    <tr>\n",
              "      <th>547</th>\n",
              "      <td>548</td>\n",
              "      <td>Produk_548</td>\n",
              "      <td>Tablet</td>\n",
              "      <td>465.0</td>\n",
              "      <td>4.3</td>\n",
              "      <td>393.0</td>\n",
              "      <td>India</td>\n",
              "    </tr>\n",
              "    <tr>\n",
              "      <th>548</th>\n",
              "      <td>549</td>\n",
              "      <td>Produk_549</td>\n",
              "      <td>Laptop</td>\n",
              "      <td>495.0</td>\n",
              "      <td>3.1</td>\n",
              "      <td>311.0</td>\n",
              "      <td>Germany</td>\n",
              "    </tr>\n",
              "    <tr>\n",
              "      <th>549</th>\n",
              "      <td>550</td>\n",
              "      <td>Produk_550</td>\n",
              "      <td>Tablet</td>\n",
              "      <td>388.0</td>\n",
              "      <td>4.3</td>\n",
              "      <td>240.0</td>\n",
              "      <td>Germany</td>\n",
              "    </tr>\n",
              "  </tbody>\n",
              "</table>\n",
              "</div>\n",
              "    <div class=\"colab-df-buttons\">\n",
              "\n",
              "  <div class=\"colab-df-container\">\n",
              "    <button class=\"colab-df-convert\" onclick=\"convertToInteractive('df-8e814020-a81a-4c26-b126-01dae889e538')\"\n",
              "            title=\"Convert this dataframe to an interactive table.\"\n",
              "            style=\"display:none;\">\n",
              "\n",
              "  <svg xmlns=\"http://www.w3.org/2000/svg\" height=\"24px\" viewBox=\"0 -960 960 960\">\n",
              "    <path d=\"M120-120v-720h720v720H120Zm60-500h600v-160H180v160Zm220 220h160v-160H400v160Zm0 220h160v-160H400v160ZM180-400h160v-160H180v160Zm440 0h160v-160H620v160ZM180-180h160v-160H180v160Zm440 0h160v-160H620v160Z\"/>\n",
              "  </svg>\n",
              "    </button>\n",
              "\n",
              "  <style>\n",
              "    .colab-df-container {\n",
              "      display:flex;\n",
              "      gap: 12px;\n",
              "    }\n",
              "\n",
              "    .colab-df-convert {\n",
              "      background-color: #E8F0FE;\n",
              "      border: none;\n",
              "      border-radius: 50%;\n",
              "      cursor: pointer;\n",
              "      display: none;\n",
              "      fill: #1967D2;\n",
              "      height: 32px;\n",
              "      padding: 0 0 0 0;\n",
              "      width: 32px;\n",
              "    }\n",
              "\n",
              "    .colab-df-convert:hover {\n",
              "      background-color: #E2EBFA;\n",
              "      box-shadow: 0px 1px 2px rgba(60, 64, 67, 0.3), 0px 1px 3px 1px rgba(60, 64, 67, 0.15);\n",
              "      fill: #174EA6;\n",
              "    }\n",
              "\n",
              "    .colab-df-buttons div {\n",
              "      margin-bottom: 4px;\n",
              "    }\n",
              "\n",
              "    [theme=dark] .colab-df-convert {\n",
              "      background-color: #3B4455;\n",
              "      fill: #D2E3FC;\n",
              "    }\n",
              "\n",
              "    [theme=dark] .colab-df-convert:hover {\n",
              "      background-color: #434B5C;\n",
              "      box-shadow: 0px 1px 3px 1px rgba(0, 0, 0, 0.15);\n",
              "      filter: drop-shadow(0px 1px 2px rgba(0, 0, 0, 0.3));\n",
              "      fill: #FFFFFF;\n",
              "    }\n",
              "  </style>\n",
              "\n",
              "    <script>\n",
              "      const buttonEl =\n",
              "        document.querySelector('#df-8e814020-a81a-4c26-b126-01dae889e538 button.colab-df-convert');\n",
              "      buttonEl.style.display =\n",
              "        google.colab.kernel.accessAllowed ? 'block' : 'none';\n",
              "\n",
              "      async function convertToInteractive(key) {\n",
              "        const element = document.querySelector('#df-8e814020-a81a-4c26-b126-01dae889e538');\n",
              "        const dataTable =\n",
              "          await google.colab.kernel.invokeFunction('convertToInteractive',\n",
              "                                                    [key], {});\n",
              "        if (!dataTable) return;\n",
              "\n",
              "        const docLinkHtml = 'Like what you see? Visit the ' +\n",
              "          '<a target=\"_blank\" href=https://colab.research.google.com/notebooks/data_table.ipynb>data table notebook</a>'\n",
              "          + ' to learn more about interactive tables.';\n",
              "        element.innerHTML = '';\n",
              "        dataTable['output_type'] = 'display_data';\n",
              "        await google.colab.output.renderOutput(dataTable, element);\n",
              "        const docLink = document.createElement('div');\n",
              "        docLink.innerHTML = docLinkHtml;\n",
              "        element.appendChild(docLink);\n",
              "      }\n",
              "    </script>\n",
              "  </div>\n",
              "\n",
              "\n",
              "<div id=\"df-796aaabd-bb4a-4ed4-9e44-3507a5878f6f\">\n",
              "  <button class=\"colab-df-quickchart\" onclick=\"quickchart('df-796aaabd-bb4a-4ed4-9e44-3507a5878f6f')\"\n",
              "            title=\"Suggest charts\"\n",
              "            style=\"display:none;\">\n",
              "\n",
              "<svg xmlns=\"http://www.w3.org/2000/svg\" height=\"24px\"viewBox=\"0 0 24 24\"\n",
              "     width=\"24px\">\n",
              "    <g>\n",
              "        <path d=\"M19 3H5c-1.1 0-2 .9-2 2v14c0 1.1.9 2 2 2h14c1.1 0 2-.9 2-2V5c0-1.1-.9-2-2-2zM9 17H7v-7h2v7zm4 0h-2V7h2v10zm4 0h-2v-4h2v4z\"/>\n",
              "    </g>\n",
              "</svg>\n",
              "  </button>\n",
              "\n",
              "<style>\n",
              "  .colab-df-quickchart {\n",
              "      --bg-color: #E8F0FE;\n",
              "      --fill-color: #1967D2;\n",
              "      --hover-bg-color: #E2EBFA;\n",
              "      --hover-fill-color: #174EA6;\n",
              "      --disabled-fill-color: #AAA;\n",
              "      --disabled-bg-color: #DDD;\n",
              "  }\n",
              "\n",
              "  [theme=dark] .colab-df-quickchart {\n",
              "      --bg-color: #3B4455;\n",
              "      --fill-color: #D2E3FC;\n",
              "      --hover-bg-color: #434B5C;\n",
              "      --hover-fill-color: #FFFFFF;\n",
              "      --disabled-bg-color: #3B4455;\n",
              "      --disabled-fill-color: #666;\n",
              "  }\n",
              "\n",
              "  .colab-df-quickchart {\n",
              "    background-color: var(--bg-color);\n",
              "    border: none;\n",
              "    border-radius: 50%;\n",
              "    cursor: pointer;\n",
              "    display: none;\n",
              "    fill: var(--fill-color);\n",
              "    height: 32px;\n",
              "    padding: 0;\n",
              "    width: 32px;\n",
              "  }\n",
              "\n",
              "  .colab-df-quickchart:hover {\n",
              "    background-color: var(--hover-bg-color);\n",
              "    box-shadow: 0 1px 2px rgba(60, 64, 67, 0.3), 0 1px 3px 1px rgba(60, 64, 67, 0.15);\n",
              "    fill: var(--button-hover-fill-color);\n",
              "  }\n",
              "\n",
              "  .colab-df-quickchart-complete:disabled,\n",
              "  .colab-df-quickchart-complete:disabled:hover {\n",
              "    background-color: var(--disabled-bg-color);\n",
              "    fill: var(--disabled-fill-color);\n",
              "    box-shadow: none;\n",
              "  }\n",
              "\n",
              "  .colab-df-spinner {\n",
              "    border: 2px solid var(--fill-color);\n",
              "    border-color: transparent;\n",
              "    border-bottom-color: var(--fill-color);\n",
              "    animation:\n",
              "      spin 1s steps(1) infinite;\n",
              "  }\n",
              "\n",
              "  @keyframes spin {\n",
              "    0% {\n",
              "      border-color: transparent;\n",
              "      border-bottom-color: var(--fill-color);\n",
              "      border-left-color: var(--fill-color);\n",
              "    }\n",
              "    20% {\n",
              "      border-color: transparent;\n",
              "      border-left-color: var(--fill-color);\n",
              "      border-top-color: var(--fill-color);\n",
              "    }\n",
              "    30% {\n",
              "      border-color: transparent;\n",
              "      border-left-color: var(--fill-color);\n",
              "      border-top-color: var(--fill-color);\n",
              "      border-right-color: var(--fill-color);\n",
              "    }\n",
              "    40% {\n",
              "      border-color: transparent;\n",
              "      border-right-color: var(--fill-color);\n",
              "      border-top-color: var(--fill-color);\n",
              "    }\n",
              "    60% {\n",
              "      border-color: transparent;\n",
              "      border-right-color: var(--fill-color);\n",
              "    }\n",
              "    80% {\n",
              "      border-color: transparent;\n",
              "      border-right-color: var(--fill-color);\n",
              "      border-bottom-color: var(--fill-color);\n",
              "    }\n",
              "    90% {\n",
              "      border-color: transparent;\n",
              "      border-bottom-color: var(--fill-color);\n",
              "    }\n",
              "  }\n",
              "</style>\n",
              "\n",
              "  <script>\n",
              "    async function quickchart(key) {\n",
              "      const quickchartButtonEl =\n",
              "        document.querySelector('#' + key + ' button');\n",
              "      quickchartButtonEl.disabled = true;  // To prevent multiple clicks.\n",
              "      quickchartButtonEl.classList.add('colab-df-spinner');\n",
              "      try {\n",
              "        const charts = await google.colab.kernel.invokeFunction(\n",
              "            'suggestCharts', [key], {});\n",
              "      } catch (error) {\n",
              "        console.error('Error during call to suggestCharts:', error);\n",
              "      }\n",
              "      quickchartButtonEl.classList.remove('colab-df-spinner');\n",
              "      quickchartButtonEl.classList.add('colab-df-quickchart-complete');\n",
              "    }\n",
              "    (() => {\n",
              "      let quickchartButtonEl =\n",
              "        document.querySelector('#df-796aaabd-bb4a-4ed4-9e44-3507a5878f6f button');\n",
              "      quickchartButtonEl.style.display =\n",
              "        google.colab.kernel.accessAllowed ? 'block' : 'none';\n",
              "    })();\n",
              "  </script>\n",
              "</div>\n",
              "\n",
              "    </div>\n",
              "  </div>\n"
            ],
            "application/vnd.google.colaboratory.intrinsic+json": {
              "type": "dataframe",
              "summary": "{\n  \"name\": \"data\",\n  \"rows\": 5,\n  \"fields\": [\n    {\n      \"column\": \"produk_id\",\n      \"properties\": {\n        \"dtype\": \"number\",\n        \"std\": 1,\n        \"min\": 546,\n        \"max\": 550,\n        \"num_unique_values\": 5,\n        \"samples\": [\n          547,\n          550,\n          548\n        ],\n        \"semantic_type\": \"\",\n        \"description\": \"\"\n      }\n    },\n    {\n      \"column\": \"nama_produk\",\n      \"properties\": {\n        \"dtype\": \"string\",\n        \"num_unique_values\": 5,\n        \"samples\": [\n          \"Produk_547\",\n          \"Produk_550\",\n          \"Produk_548\"\n        ],\n        \"semantic_type\": \"\",\n        \"description\": \"\"\n      }\n    },\n    {\n      \"column\": \"kategori\",\n      \"properties\": {\n        \"dtype\": \"string\",\n        \"num_unique_values\": 3,\n        \"samples\": [\n          \"Laptop\",\n          \"Headphone\",\n          \"Tablet\"\n        ],\n        \"semantic_type\": \"\",\n        \"description\": \"\"\n      }\n    },\n    {\n      \"column\": \"harga\",\n      \"properties\": {\n        \"dtype\": \"number\",\n        \"std\": 86.65621731878215,\n        \"min\": 388.0,\n        \"max\": 628.0,\n        \"num_unique_values\": 5,\n        \"samples\": [\n          628.0,\n          388.0,\n          465.0\n        ],\n        \"semantic_type\": \"\",\n        \"description\": \"\"\n      }\n    },\n    {\n      \"column\": \"rating\",\n      \"properties\": {\n        \"dtype\": \"number\",\n        \"std\": 0.6066300355241241,\n        \"min\": 3.1,\n        \"max\": 4.7,\n        \"num_unique_values\": 4,\n        \"samples\": [\n          4.7,\n          3.1,\n          3.9\n        ],\n        \"semantic_type\": \"\",\n        \"description\": \"\"\n      }\n    },\n    {\n      \"column\": \"jumlah_ulasan\",\n      \"properties\": {\n        \"dtype\": \"number\",\n        \"std\": 159.13924720193947,\n        \"min\": 19.0,\n        \"max\": 414.0,\n        \"num_unique_values\": 5,\n        \"samples\": [\n          414.0,\n          240.0,\n          393.0\n        ],\n        \"semantic_type\": \"\",\n        \"description\": \"\"\n      }\n    },\n    {\n      \"column\": \"negara_asal\",\n      \"properties\": {\n        \"dtype\": \"string\",\n        \"num_unique_values\": 4,\n        \"samples\": [\n          \"USA\",\n          \"Germany\",\n          \"China\"\n        ],\n        \"semantic_type\": \"\",\n        \"description\": \"\"\n      }\n    }\n  ]\n}"
            }
          },
          "metadata": {},
          "execution_count": 16
        }
      ],
      "source": [
        "data.tail(5)"
      ]
    },
    {
      "cell_type": "code",
      "execution_count": 17,
      "id": "9e933471",
      "metadata": {
        "scrolled": true,
        "id": "9e933471",
        "colab": {
          "base_uri": "https://localhost:8080/",
          "height": 300
        },
        "outputId": "7a9bbbe4-0fc2-4e90-d8f3-675299399ad9"
      },
      "outputs": [
        {
          "output_type": "execute_result",
          "data": {
            "text/plain": [
              "        produk_id        harga      rating  jumlah_ulasan\n",
              "count  550.000000   520.000000  500.000000     530.000000\n",
              "mean   275.500000   565.715385    4.005600     259.671698\n",
              "std    158.915596   625.886725    0.571052     142.655380\n",
              "min      1.000000  -213.000000    3.000000      12.000000\n",
              "25%    138.250000   374.000000    3.500000     139.000000\n",
              "50%    275.500000   516.000000    4.000000     262.500000\n",
              "75%    412.750000   656.250000    4.500000     390.750000\n",
              "max    550.000000  8341.000000    5.000000     499.000000"
            ],
            "text/html": [
              "\n",
              "  <div id=\"df-d909a0f9-690c-4a4b-96d4-a75a76a2a55d\" class=\"colab-df-container\">\n",
              "    <div>\n",
              "<style scoped>\n",
              "    .dataframe tbody tr th:only-of-type {\n",
              "        vertical-align: middle;\n",
              "    }\n",
              "\n",
              "    .dataframe tbody tr th {\n",
              "        vertical-align: top;\n",
              "    }\n",
              "\n",
              "    .dataframe thead th {\n",
              "        text-align: right;\n",
              "    }\n",
              "</style>\n",
              "<table border=\"1\" class=\"dataframe\">\n",
              "  <thead>\n",
              "    <tr style=\"text-align: right;\">\n",
              "      <th></th>\n",
              "      <th>produk_id</th>\n",
              "      <th>harga</th>\n",
              "      <th>rating</th>\n",
              "      <th>jumlah_ulasan</th>\n",
              "    </tr>\n",
              "  </thead>\n",
              "  <tbody>\n",
              "    <tr>\n",
              "      <th>count</th>\n",
              "      <td>550.000000</td>\n",
              "      <td>520.000000</td>\n",
              "      <td>500.000000</td>\n",
              "      <td>530.000000</td>\n",
              "    </tr>\n",
              "    <tr>\n",
              "      <th>mean</th>\n",
              "      <td>275.500000</td>\n",
              "      <td>565.715385</td>\n",
              "      <td>4.005600</td>\n",
              "      <td>259.671698</td>\n",
              "    </tr>\n",
              "    <tr>\n",
              "      <th>std</th>\n",
              "      <td>158.915596</td>\n",
              "      <td>625.886725</td>\n",
              "      <td>0.571052</td>\n",
              "      <td>142.655380</td>\n",
              "    </tr>\n",
              "    <tr>\n",
              "      <th>min</th>\n",
              "      <td>1.000000</td>\n",
              "      <td>-213.000000</td>\n",
              "      <td>3.000000</td>\n",
              "      <td>12.000000</td>\n",
              "    </tr>\n",
              "    <tr>\n",
              "      <th>25%</th>\n",
              "      <td>138.250000</td>\n",
              "      <td>374.000000</td>\n",
              "      <td>3.500000</td>\n",
              "      <td>139.000000</td>\n",
              "    </tr>\n",
              "    <tr>\n",
              "      <th>50%</th>\n",
              "      <td>275.500000</td>\n",
              "      <td>516.000000</td>\n",
              "      <td>4.000000</td>\n",
              "      <td>262.500000</td>\n",
              "    </tr>\n",
              "    <tr>\n",
              "      <th>75%</th>\n",
              "      <td>412.750000</td>\n",
              "      <td>656.250000</td>\n",
              "      <td>4.500000</td>\n",
              "      <td>390.750000</td>\n",
              "    </tr>\n",
              "    <tr>\n",
              "      <th>max</th>\n",
              "      <td>550.000000</td>\n",
              "      <td>8341.000000</td>\n",
              "      <td>5.000000</td>\n",
              "      <td>499.000000</td>\n",
              "    </tr>\n",
              "  </tbody>\n",
              "</table>\n",
              "</div>\n",
              "    <div class=\"colab-df-buttons\">\n",
              "\n",
              "  <div class=\"colab-df-container\">\n",
              "    <button class=\"colab-df-convert\" onclick=\"convertToInteractive('df-d909a0f9-690c-4a4b-96d4-a75a76a2a55d')\"\n",
              "            title=\"Convert this dataframe to an interactive table.\"\n",
              "            style=\"display:none;\">\n",
              "\n",
              "  <svg xmlns=\"http://www.w3.org/2000/svg\" height=\"24px\" viewBox=\"0 -960 960 960\">\n",
              "    <path d=\"M120-120v-720h720v720H120Zm60-500h600v-160H180v160Zm220 220h160v-160H400v160Zm0 220h160v-160H400v160ZM180-400h160v-160H180v160Zm440 0h160v-160H620v160ZM180-180h160v-160H180v160Zm440 0h160v-160H620v160Z\"/>\n",
              "  </svg>\n",
              "    </button>\n",
              "\n",
              "  <style>\n",
              "    .colab-df-container {\n",
              "      display:flex;\n",
              "      gap: 12px;\n",
              "    }\n",
              "\n",
              "    .colab-df-convert {\n",
              "      background-color: #E8F0FE;\n",
              "      border: none;\n",
              "      border-radius: 50%;\n",
              "      cursor: pointer;\n",
              "      display: none;\n",
              "      fill: #1967D2;\n",
              "      height: 32px;\n",
              "      padding: 0 0 0 0;\n",
              "      width: 32px;\n",
              "    }\n",
              "\n",
              "    .colab-df-convert:hover {\n",
              "      background-color: #E2EBFA;\n",
              "      box-shadow: 0px 1px 2px rgba(60, 64, 67, 0.3), 0px 1px 3px 1px rgba(60, 64, 67, 0.15);\n",
              "      fill: #174EA6;\n",
              "    }\n",
              "\n",
              "    .colab-df-buttons div {\n",
              "      margin-bottom: 4px;\n",
              "    }\n",
              "\n",
              "    [theme=dark] .colab-df-convert {\n",
              "      background-color: #3B4455;\n",
              "      fill: #D2E3FC;\n",
              "    }\n",
              "\n",
              "    [theme=dark] .colab-df-convert:hover {\n",
              "      background-color: #434B5C;\n",
              "      box-shadow: 0px 1px 3px 1px rgba(0, 0, 0, 0.15);\n",
              "      filter: drop-shadow(0px 1px 2px rgba(0, 0, 0, 0.3));\n",
              "      fill: #FFFFFF;\n",
              "    }\n",
              "  </style>\n",
              "\n",
              "    <script>\n",
              "      const buttonEl =\n",
              "        document.querySelector('#df-d909a0f9-690c-4a4b-96d4-a75a76a2a55d button.colab-df-convert');\n",
              "      buttonEl.style.display =\n",
              "        google.colab.kernel.accessAllowed ? 'block' : 'none';\n",
              "\n",
              "      async function convertToInteractive(key) {\n",
              "        const element = document.querySelector('#df-d909a0f9-690c-4a4b-96d4-a75a76a2a55d');\n",
              "        const dataTable =\n",
              "          await google.colab.kernel.invokeFunction('convertToInteractive',\n",
              "                                                    [key], {});\n",
              "        if (!dataTable) return;\n",
              "\n",
              "        const docLinkHtml = 'Like what you see? Visit the ' +\n",
              "          '<a target=\"_blank\" href=https://colab.research.google.com/notebooks/data_table.ipynb>data table notebook</a>'\n",
              "          + ' to learn more about interactive tables.';\n",
              "        element.innerHTML = '';\n",
              "        dataTable['output_type'] = 'display_data';\n",
              "        await google.colab.output.renderOutput(dataTable, element);\n",
              "        const docLink = document.createElement('div');\n",
              "        docLink.innerHTML = docLinkHtml;\n",
              "        element.appendChild(docLink);\n",
              "      }\n",
              "    </script>\n",
              "  </div>\n",
              "\n",
              "\n",
              "<div id=\"df-cf3157d2-28e9-4b76-885c-229333194298\">\n",
              "  <button class=\"colab-df-quickchart\" onclick=\"quickchart('df-cf3157d2-28e9-4b76-885c-229333194298')\"\n",
              "            title=\"Suggest charts\"\n",
              "            style=\"display:none;\">\n",
              "\n",
              "<svg xmlns=\"http://www.w3.org/2000/svg\" height=\"24px\"viewBox=\"0 0 24 24\"\n",
              "     width=\"24px\">\n",
              "    <g>\n",
              "        <path d=\"M19 3H5c-1.1 0-2 .9-2 2v14c0 1.1.9 2 2 2h14c1.1 0 2-.9 2-2V5c0-1.1-.9-2-2-2zM9 17H7v-7h2v7zm4 0h-2V7h2v10zm4 0h-2v-4h2v4z\"/>\n",
              "    </g>\n",
              "</svg>\n",
              "  </button>\n",
              "\n",
              "<style>\n",
              "  .colab-df-quickchart {\n",
              "      --bg-color: #E8F0FE;\n",
              "      --fill-color: #1967D2;\n",
              "      --hover-bg-color: #E2EBFA;\n",
              "      --hover-fill-color: #174EA6;\n",
              "      --disabled-fill-color: #AAA;\n",
              "      --disabled-bg-color: #DDD;\n",
              "  }\n",
              "\n",
              "  [theme=dark] .colab-df-quickchart {\n",
              "      --bg-color: #3B4455;\n",
              "      --fill-color: #D2E3FC;\n",
              "      --hover-bg-color: #434B5C;\n",
              "      --hover-fill-color: #FFFFFF;\n",
              "      --disabled-bg-color: #3B4455;\n",
              "      --disabled-fill-color: #666;\n",
              "  }\n",
              "\n",
              "  .colab-df-quickchart {\n",
              "    background-color: var(--bg-color);\n",
              "    border: none;\n",
              "    border-radius: 50%;\n",
              "    cursor: pointer;\n",
              "    display: none;\n",
              "    fill: var(--fill-color);\n",
              "    height: 32px;\n",
              "    padding: 0;\n",
              "    width: 32px;\n",
              "  }\n",
              "\n",
              "  .colab-df-quickchart:hover {\n",
              "    background-color: var(--hover-bg-color);\n",
              "    box-shadow: 0 1px 2px rgba(60, 64, 67, 0.3), 0 1px 3px 1px rgba(60, 64, 67, 0.15);\n",
              "    fill: var(--button-hover-fill-color);\n",
              "  }\n",
              "\n",
              "  .colab-df-quickchart-complete:disabled,\n",
              "  .colab-df-quickchart-complete:disabled:hover {\n",
              "    background-color: var(--disabled-bg-color);\n",
              "    fill: var(--disabled-fill-color);\n",
              "    box-shadow: none;\n",
              "  }\n",
              "\n",
              "  .colab-df-spinner {\n",
              "    border: 2px solid var(--fill-color);\n",
              "    border-color: transparent;\n",
              "    border-bottom-color: var(--fill-color);\n",
              "    animation:\n",
              "      spin 1s steps(1) infinite;\n",
              "  }\n",
              "\n",
              "  @keyframes spin {\n",
              "    0% {\n",
              "      border-color: transparent;\n",
              "      border-bottom-color: var(--fill-color);\n",
              "      border-left-color: var(--fill-color);\n",
              "    }\n",
              "    20% {\n",
              "      border-color: transparent;\n",
              "      border-left-color: var(--fill-color);\n",
              "      border-top-color: var(--fill-color);\n",
              "    }\n",
              "    30% {\n",
              "      border-color: transparent;\n",
              "      border-left-color: var(--fill-color);\n",
              "      border-top-color: var(--fill-color);\n",
              "      border-right-color: var(--fill-color);\n",
              "    }\n",
              "    40% {\n",
              "      border-color: transparent;\n",
              "      border-right-color: var(--fill-color);\n",
              "      border-top-color: var(--fill-color);\n",
              "    }\n",
              "    60% {\n",
              "      border-color: transparent;\n",
              "      border-right-color: var(--fill-color);\n",
              "    }\n",
              "    80% {\n",
              "      border-color: transparent;\n",
              "      border-right-color: var(--fill-color);\n",
              "      border-bottom-color: var(--fill-color);\n",
              "    }\n",
              "    90% {\n",
              "      border-color: transparent;\n",
              "      border-bottom-color: var(--fill-color);\n",
              "    }\n",
              "  }\n",
              "</style>\n",
              "\n",
              "  <script>\n",
              "    async function quickchart(key) {\n",
              "      const quickchartButtonEl =\n",
              "        document.querySelector('#' + key + ' button');\n",
              "      quickchartButtonEl.disabled = true;  // To prevent multiple clicks.\n",
              "      quickchartButtonEl.classList.add('colab-df-spinner');\n",
              "      try {\n",
              "        const charts = await google.colab.kernel.invokeFunction(\n",
              "            'suggestCharts', [key], {});\n",
              "      } catch (error) {\n",
              "        console.error('Error during call to suggestCharts:', error);\n",
              "      }\n",
              "      quickchartButtonEl.classList.remove('colab-df-spinner');\n",
              "      quickchartButtonEl.classList.add('colab-df-quickchart-complete');\n",
              "    }\n",
              "    (() => {\n",
              "      let quickchartButtonEl =\n",
              "        document.querySelector('#df-cf3157d2-28e9-4b76-885c-229333194298 button');\n",
              "      quickchartButtonEl.style.display =\n",
              "        google.colab.kernel.accessAllowed ? 'block' : 'none';\n",
              "    })();\n",
              "  </script>\n",
              "</div>\n",
              "\n",
              "    </div>\n",
              "  </div>\n"
            ],
            "application/vnd.google.colaboratory.intrinsic+json": {
              "type": "dataframe",
              "summary": "{\n  \"name\": \"data\",\n  \"rows\": 8,\n  \"fields\": [\n    {\n      \"column\": \"produk_id\",\n      \"properties\": {\n        \"dtype\": \"number\",\n        \"std\": 197.9179596669068,\n        \"min\": 1.0,\n        \"max\": 550.0,\n        \"num_unique_values\": 6,\n        \"samples\": [\n          550.0,\n          275.5,\n          412.75\n        ],\n        \"semantic_type\": \"\",\n        \"description\": \"\"\n      }\n    },\n    {\n      \"column\": \"harga\",\n      \"properties\": {\n        \"dtype\": \"number\",\n        \"std\": 2808.96296621019,\n        \"min\": -213.0,\n        \"max\": 8341.0,\n        \"num_unique_values\": 8,\n        \"samples\": [\n          565.7153846153847,\n          516.0,\n          520.0\n        ],\n        \"semantic_type\": \"\",\n        \"description\": \"\"\n      }\n    },\n    {\n      \"column\": \"rating\",\n      \"properties\": {\n        \"dtype\": \"number\",\n        \"std\": 175.54050729187298,\n        \"min\": 0.5710523983693329,\n        \"max\": 500.0,\n        \"num_unique_values\": 8,\n        \"samples\": [\n          4.0056,\n          4.0,\n          500.0\n        ],\n        \"semantic_type\": \"\",\n        \"description\": \"\"\n      }\n    },\n    {\n      \"column\": \"jumlah_ulasan\",\n      \"properties\": {\n        \"dtype\": \"number\",\n        \"std\": 182.83956735825046,\n        \"min\": 12.0,\n        \"max\": 530.0,\n        \"num_unique_values\": 8,\n        \"samples\": [\n          259.6716981132075,\n          262.5,\n          530.0\n        ],\n        \"semantic_type\": \"\",\n        \"description\": \"\"\n      }\n    }\n  ]\n}"
            }
          },
          "metadata": {},
          "execution_count": 17
        }
      ],
      "source": [
        "#melihat statistika deskriptif\n",
        "data.describe()"
      ]
    },
    {
      "cell_type": "markdown",
      "source": [
        "1. a. Download dataset produk_elektronik.csv yang ada pada link berikut.\n",
        "https://bit.ly/dataprodukelektronik  \n",
        "\n",
        "  b. Tampilkan informasi tipe data setiap kolom dan cek apakah ada missing values.\n",
        "\n",
        "  Jawab:\n",
        "  Berdasarkan output di bawah ini, terdapat missing values. Hal ini dapat diketahui dari adanya beberapa kolom yang memiliki jumlah baris kurang dari jumlah maksimal baris untuk setiap kolomnya, yaitu: 550 baris."
      ],
      "metadata": {
        "id": "r9wZYJ2upAmg"
      },
      "id": "r9wZYJ2upAmg"
    },
    {
      "cell_type": "code",
      "execution_count": 18,
      "id": "e3ecc740",
      "metadata": {
        "scrolled": true,
        "id": "e3ecc740",
        "colab": {
          "base_uri": "https://localhost:8080/"
        },
        "outputId": "3e689e12-f24b-4a63-ac08-ea448c9a3f39"
      },
      "outputs": [
        {
          "output_type": "stream",
          "name": "stdout",
          "text": [
            "<class 'pandas.core.frame.DataFrame'>\n",
            "RangeIndex: 550 entries, 0 to 549\n",
            "Data columns (total 7 columns):\n",
            " #   Column         Non-Null Count  Dtype  \n",
            "---  ------         --------------  -----  \n",
            " 0   produk_id      550 non-null    int64  \n",
            " 1   nama_produk    550 non-null    object \n",
            " 2   kategori       550 non-null    object \n",
            " 3   harga          520 non-null    float64\n",
            " 4   rating         500 non-null    float64\n",
            " 5   jumlah_ulasan  530 non-null    float64\n",
            " 6   negara_asal    550 non-null    object \n",
            "dtypes: float64(3), int64(1), object(3)\n",
            "memory usage: 30.2+ KB\n"
          ]
        }
      ],
      "source": [
        "data.info()"
      ]
    },
    {
      "cell_type": "markdown",
      "id": "1be52fd2",
      "metadata": {
        "id": "1be52fd2"
      },
      "source": [
        "Berdasarkan output diatas, dapat disimpulkan bahwa dataset tersebut, memiliki total: 7 kolom, dengan jumlah maksimal baris untuk setiap kolom sebanyak:  550 baris. Akan tetapi terdapat beberapa kolom yang memiliki jumlah baris < 550, yaitu kolom: harga, rating, dan jumlah_ulasan, maka akan dilakukan proses identifikasi lebih lanjut.\n",
        "\n"
      ]
    },
    {
      "cell_type": "markdown",
      "id": "2adc7fbe",
      "metadata": {
        "id": "2adc7fbe"
      },
      "source": [
        "# Deteksi Missing value"
      ]
    },
    {
      "cell_type": "code",
      "execution_count": 19,
      "id": "5428e9b2",
      "metadata": {
        "id": "5428e9b2",
        "colab": {
          "base_uri": "https://localhost:8080/",
          "height": 423
        },
        "outputId": "21c895ac-e5a0-43d4-c419-7476887ed4f1"
      },
      "outputs": [
        {
          "output_type": "execute_result",
          "data": {
            "text/plain": [
              "     produk_id  nama_produk  kategori  harga  rating  jumlah_ulasan  \\\n",
              "0        False        False     False  False   False          False   \n",
              "1        False        False     False  False   False          False   \n",
              "2        False        False     False  False   False          False   \n",
              "3        False        False     False  False   False          False   \n",
              "4        False        False     False  False   False          False   \n",
              "..         ...          ...       ...    ...     ...            ...   \n",
              "545      False        False     False  False   False          False   \n",
              "546      False        False     False  False   False          False   \n",
              "547      False        False     False  False   False          False   \n",
              "548      False        False     False  False   False          False   \n",
              "549      False        False     False  False   False          False   \n",
              "\n",
              "     negara_asal  \n",
              "0          False  \n",
              "1          False  \n",
              "2          False  \n",
              "3          False  \n",
              "4          False  \n",
              "..           ...  \n",
              "545        False  \n",
              "546        False  \n",
              "547        False  \n",
              "548        False  \n",
              "549        False  \n",
              "\n",
              "[550 rows x 7 columns]"
            ],
            "text/html": [
              "\n",
              "  <div id=\"df-324ce9e3-64bf-4f6a-a307-fbc275047348\" class=\"colab-df-container\">\n",
              "    <div>\n",
              "<style scoped>\n",
              "    .dataframe tbody tr th:only-of-type {\n",
              "        vertical-align: middle;\n",
              "    }\n",
              "\n",
              "    .dataframe tbody tr th {\n",
              "        vertical-align: top;\n",
              "    }\n",
              "\n",
              "    .dataframe thead th {\n",
              "        text-align: right;\n",
              "    }\n",
              "</style>\n",
              "<table border=\"1\" class=\"dataframe\">\n",
              "  <thead>\n",
              "    <tr style=\"text-align: right;\">\n",
              "      <th></th>\n",
              "      <th>produk_id</th>\n",
              "      <th>nama_produk</th>\n",
              "      <th>kategori</th>\n",
              "      <th>harga</th>\n",
              "      <th>rating</th>\n",
              "      <th>jumlah_ulasan</th>\n",
              "      <th>negara_asal</th>\n",
              "    </tr>\n",
              "  </thead>\n",
              "  <tbody>\n",
              "    <tr>\n",
              "      <th>0</th>\n",
              "      <td>False</td>\n",
              "      <td>False</td>\n",
              "      <td>False</td>\n",
              "      <td>False</td>\n",
              "      <td>False</td>\n",
              "      <td>False</td>\n",
              "      <td>False</td>\n",
              "    </tr>\n",
              "    <tr>\n",
              "      <th>1</th>\n",
              "      <td>False</td>\n",
              "      <td>False</td>\n",
              "      <td>False</td>\n",
              "      <td>False</td>\n",
              "      <td>False</td>\n",
              "      <td>False</td>\n",
              "      <td>False</td>\n",
              "    </tr>\n",
              "    <tr>\n",
              "      <th>2</th>\n",
              "      <td>False</td>\n",
              "      <td>False</td>\n",
              "      <td>False</td>\n",
              "      <td>False</td>\n",
              "      <td>False</td>\n",
              "      <td>False</td>\n",
              "      <td>False</td>\n",
              "    </tr>\n",
              "    <tr>\n",
              "      <th>3</th>\n",
              "      <td>False</td>\n",
              "      <td>False</td>\n",
              "      <td>False</td>\n",
              "      <td>False</td>\n",
              "      <td>False</td>\n",
              "      <td>False</td>\n",
              "      <td>False</td>\n",
              "    </tr>\n",
              "    <tr>\n",
              "      <th>4</th>\n",
              "      <td>False</td>\n",
              "      <td>False</td>\n",
              "      <td>False</td>\n",
              "      <td>False</td>\n",
              "      <td>False</td>\n",
              "      <td>False</td>\n",
              "      <td>False</td>\n",
              "    </tr>\n",
              "    <tr>\n",
              "      <th>...</th>\n",
              "      <td>...</td>\n",
              "      <td>...</td>\n",
              "      <td>...</td>\n",
              "      <td>...</td>\n",
              "      <td>...</td>\n",
              "      <td>...</td>\n",
              "      <td>...</td>\n",
              "    </tr>\n",
              "    <tr>\n",
              "      <th>545</th>\n",
              "      <td>False</td>\n",
              "      <td>False</td>\n",
              "      <td>False</td>\n",
              "      <td>False</td>\n",
              "      <td>False</td>\n",
              "      <td>False</td>\n",
              "      <td>False</td>\n",
              "    </tr>\n",
              "    <tr>\n",
              "      <th>546</th>\n",
              "      <td>False</td>\n",
              "      <td>False</td>\n",
              "      <td>False</td>\n",
              "      <td>False</td>\n",
              "      <td>False</td>\n",
              "      <td>False</td>\n",
              "      <td>False</td>\n",
              "    </tr>\n",
              "    <tr>\n",
              "      <th>547</th>\n",
              "      <td>False</td>\n",
              "      <td>False</td>\n",
              "      <td>False</td>\n",
              "      <td>False</td>\n",
              "      <td>False</td>\n",
              "      <td>False</td>\n",
              "      <td>False</td>\n",
              "    </tr>\n",
              "    <tr>\n",
              "      <th>548</th>\n",
              "      <td>False</td>\n",
              "      <td>False</td>\n",
              "      <td>False</td>\n",
              "      <td>False</td>\n",
              "      <td>False</td>\n",
              "      <td>False</td>\n",
              "      <td>False</td>\n",
              "    </tr>\n",
              "    <tr>\n",
              "      <th>549</th>\n",
              "      <td>False</td>\n",
              "      <td>False</td>\n",
              "      <td>False</td>\n",
              "      <td>False</td>\n",
              "      <td>False</td>\n",
              "      <td>False</td>\n",
              "      <td>False</td>\n",
              "    </tr>\n",
              "  </tbody>\n",
              "</table>\n",
              "<p>550 rows × 7 columns</p>\n",
              "</div>\n",
              "    <div class=\"colab-df-buttons\">\n",
              "\n",
              "  <div class=\"colab-df-container\">\n",
              "    <button class=\"colab-df-convert\" onclick=\"convertToInteractive('df-324ce9e3-64bf-4f6a-a307-fbc275047348')\"\n",
              "            title=\"Convert this dataframe to an interactive table.\"\n",
              "            style=\"display:none;\">\n",
              "\n",
              "  <svg xmlns=\"http://www.w3.org/2000/svg\" height=\"24px\" viewBox=\"0 -960 960 960\">\n",
              "    <path d=\"M120-120v-720h720v720H120Zm60-500h600v-160H180v160Zm220 220h160v-160H400v160Zm0 220h160v-160H400v160ZM180-400h160v-160H180v160Zm440 0h160v-160H620v160ZM180-180h160v-160H180v160Zm440 0h160v-160H620v160Z\"/>\n",
              "  </svg>\n",
              "    </button>\n",
              "\n",
              "  <style>\n",
              "    .colab-df-container {\n",
              "      display:flex;\n",
              "      gap: 12px;\n",
              "    }\n",
              "\n",
              "    .colab-df-convert {\n",
              "      background-color: #E8F0FE;\n",
              "      border: none;\n",
              "      border-radius: 50%;\n",
              "      cursor: pointer;\n",
              "      display: none;\n",
              "      fill: #1967D2;\n",
              "      height: 32px;\n",
              "      padding: 0 0 0 0;\n",
              "      width: 32px;\n",
              "    }\n",
              "\n",
              "    .colab-df-convert:hover {\n",
              "      background-color: #E2EBFA;\n",
              "      box-shadow: 0px 1px 2px rgba(60, 64, 67, 0.3), 0px 1px 3px 1px rgba(60, 64, 67, 0.15);\n",
              "      fill: #174EA6;\n",
              "    }\n",
              "\n",
              "    .colab-df-buttons div {\n",
              "      margin-bottom: 4px;\n",
              "    }\n",
              "\n",
              "    [theme=dark] .colab-df-convert {\n",
              "      background-color: #3B4455;\n",
              "      fill: #D2E3FC;\n",
              "    }\n",
              "\n",
              "    [theme=dark] .colab-df-convert:hover {\n",
              "      background-color: #434B5C;\n",
              "      box-shadow: 0px 1px 3px 1px rgba(0, 0, 0, 0.15);\n",
              "      filter: drop-shadow(0px 1px 2px rgba(0, 0, 0, 0.3));\n",
              "      fill: #FFFFFF;\n",
              "    }\n",
              "  </style>\n",
              "\n",
              "    <script>\n",
              "      const buttonEl =\n",
              "        document.querySelector('#df-324ce9e3-64bf-4f6a-a307-fbc275047348 button.colab-df-convert');\n",
              "      buttonEl.style.display =\n",
              "        google.colab.kernel.accessAllowed ? 'block' : 'none';\n",
              "\n",
              "      async function convertToInteractive(key) {\n",
              "        const element = document.querySelector('#df-324ce9e3-64bf-4f6a-a307-fbc275047348');\n",
              "        const dataTable =\n",
              "          await google.colab.kernel.invokeFunction('convertToInteractive',\n",
              "                                                    [key], {});\n",
              "        if (!dataTable) return;\n",
              "\n",
              "        const docLinkHtml = 'Like what you see? Visit the ' +\n",
              "          '<a target=\"_blank\" href=https://colab.research.google.com/notebooks/data_table.ipynb>data table notebook</a>'\n",
              "          + ' to learn more about interactive tables.';\n",
              "        element.innerHTML = '';\n",
              "        dataTable['output_type'] = 'display_data';\n",
              "        await google.colab.output.renderOutput(dataTable, element);\n",
              "        const docLink = document.createElement('div');\n",
              "        docLink.innerHTML = docLinkHtml;\n",
              "        element.appendChild(docLink);\n",
              "      }\n",
              "    </script>\n",
              "  </div>\n",
              "\n",
              "\n",
              "<div id=\"df-99b7559d-7003-42c8-98fd-674ede59facb\">\n",
              "  <button class=\"colab-df-quickchart\" onclick=\"quickchart('df-99b7559d-7003-42c8-98fd-674ede59facb')\"\n",
              "            title=\"Suggest charts\"\n",
              "            style=\"display:none;\">\n",
              "\n",
              "<svg xmlns=\"http://www.w3.org/2000/svg\" height=\"24px\"viewBox=\"0 0 24 24\"\n",
              "     width=\"24px\">\n",
              "    <g>\n",
              "        <path d=\"M19 3H5c-1.1 0-2 .9-2 2v14c0 1.1.9 2 2 2h14c1.1 0 2-.9 2-2V5c0-1.1-.9-2-2-2zM9 17H7v-7h2v7zm4 0h-2V7h2v10zm4 0h-2v-4h2v4z\"/>\n",
              "    </g>\n",
              "</svg>\n",
              "  </button>\n",
              "\n",
              "<style>\n",
              "  .colab-df-quickchart {\n",
              "      --bg-color: #E8F0FE;\n",
              "      --fill-color: #1967D2;\n",
              "      --hover-bg-color: #E2EBFA;\n",
              "      --hover-fill-color: #174EA6;\n",
              "      --disabled-fill-color: #AAA;\n",
              "      --disabled-bg-color: #DDD;\n",
              "  }\n",
              "\n",
              "  [theme=dark] .colab-df-quickchart {\n",
              "      --bg-color: #3B4455;\n",
              "      --fill-color: #D2E3FC;\n",
              "      --hover-bg-color: #434B5C;\n",
              "      --hover-fill-color: #FFFFFF;\n",
              "      --disabled-bg-color: #3B4455;\n",
              "      --disabled-fill-color: #666;\n",
              "  }\n",
              "\n",
              "  .colab-df-quickchart {\n",
              "    background-color: var(--bg-color);\n",
              "    border: none;\n",
              "    border-radius: 50%;\n",
              "    cursor: pointer;\n",
              "    display: none;\n",
              "    fill: var(--fill-color);\n",
              "    height: 32px;\n",
              "    padding: 0;\n",
              "    width: 32px;\n",
              "  }\n",
              "\n",
              "  .colab-df-quickchart:hover {\n",
              "    background-color: var(--hover-bg-color);\n",
              "    box-shadow: 0 1px 2px rgba(60, 64, 67, 0.3), 0 1px 3px 1px rgba(60, 64, 67, 0.15);\n",
              "    fill: var(--button-hover-fill-color);\n",
              "  }\n",
              "\n",
              "  .colab-df-quickchart-complete:disabled,\n",
              "  .colab-df-quickchart-complete:disabled:hover {\n",
              "    background-color: var(--disabled-bg-color);\n",
              "    fill: var(--disabled-fill-color);\n",
              "    box-shadow: none;\n",
              "  }\n",
              "\n",
              "  .colab-df-spinner {\n",
              "    border: 2px solid var(--fill-color);\n",
              "    border-color: transparent;\n",
              "    border-bottom-color: var(--fill-color);\n",
              "    animation:\n",
              "      spin 1s steps(1) infinite;\n",
              "  }\n",
              "\n",
              "  @keyframes spin {\n",
              "    0% {\n",
              "      border-color: transparent;\n",
              "      border-bottom-color: var(--fill-color);\n",
              "      border-left-color: var(--fill-color);\n",
              "    }\n",
              "    20% {\n",
              "      border-color: transparent;\n",
              "      border-left-color: var(--fill-color);\n",
              "      border-top-color: var(--fill-color);\n",
              "    }\n",
              "    30% {\n",
              "      border-color: transparent;\n",
              "      border-left-color: var(--fill-color);\n",
              "      border-top-color: var(--fill-color);\n",
              "      border-right-color: var(--fill-color);\n",
              "    }\n",
              "    40% {\n",
              "      border-color: transparent;\n",
              "      border-right-color: var(--fill-color);\n",
              "      border-top-color: var(--fill-color);\n",
              "    }\n",
              "    60% {\n",
              "      border-color: transparent;\n",
              "      border-right-color: var(--fill-color);\n",
              "    }\n",
              "    80% {\n",
              "      border-color: transparent;\n",
              "      border-right-color: var(--fill-color);\n",
              "      border-bottom-color: var(--fill-color);\n",
              "    }\n",
              "    90% {\n",
              "      border-color: transparent;\n",
              "      border-bottom-color: var(--fill-color);\n",
              "    }\n",
              "  }\n",
              "</style>\n",
              "\n",
              "  <script>\n",
              "    async function quickchart(key) {\n",
              "      const quickchartButtonEl =\n",
              "        document.querySelector('#' + key + ' button');\n",
              "      quickchartButtonEl.disabled = true;  // To prevent multiple clicks.\n",
              "      quickchartButtonEl.classList.add('colab-df-spinner');\n",
              "      try {\n",
              "        const charts = await google.colab.kernel.invokeFunction(\n",
              "            'suggestCharts', [key], {});\n",
              "      } catch (error) {\n",
              "        console.error('Error during call to suggestCharts:', error);\n",
              "      }\n",
              "      quickchartButtonEl.classList.remove('colab-df-spinner');\n",
              "      quickchartButtonEl.classList.add('colab-df-quickchart-complete');\n",
              "    }\n",
              "    (() => {\n",
              "      let quickchartButtonEl =\n",
              "        document.querySelector('#df-99b7559d-7003-42c8-98fd-674ede59facb button');\n",
              "      quickchartButtonEl.style.display =\n",
              "        google.colab.kernel.accessAllowed ? 'block' : 'none';\n",
              "    })();\n",
              "  </script>\n",
              "</div>\n",
              "\n",
              "    </div>\n",
              "  </div>\n"
            ],
            "application/vnd.google.colaboratory.intrinsic+json": {
              "type": "dataframe",
              "summary": "{\n  \"name\": \"data\",\n  \"rows\": 550,\n  \"fields\": [\n    {\n      \"column\": \"produk_id\",\n      \"properties\": {\n        \"dtype\": \"boolean\",\n        \"num_unique_values\": 1,\n        \"samples\": [\n          false\n        ],\n        \"semantic_type\": \"\",\n        \"description\": \"\"\n      }\n    },\n    {\n      \"column\": \"nama_produk\",\n      \"properties\": {\n        \"dtype\": \"boolean\",\n        \"num_unique_values\": 1,\n        \"samples\": [\n          false\n        ],\n        \"semantic_type\": \"\",\n        \"description\": \"\"\n      }\n    },\n    {\n      \"column\": \"kategori\",\n      \"properties\": {\n        \"dtype\": \"boolean\",\n        \"num_unique_values\": 1,\n        \"samples\": [\n          false\n        ],\n        \"semantic_type\": \"\",\n        \"description\": \"\"\n      }\n    },\n    {\n      \"column\": \"harga\",\n      \"properties\": {\n        \"dtype\": \"boolean\",\n        \"num_unique_values\": 2,\n        \"samples\": [\n          true\n        ],\n        \"semantic_type\": \"\",\n        \"description\": \"\"\n      }\n    },\n    {\n      \"column\": \"rating\",\n      \"properties\": {\n        \"dtype\": \"boolean\",\n        \"num_unique_values\": 2,\n        \"samples\": [\n          true\n        ],\n        \"semantic_type\": \"\",\n        \"description\": \"\"\n      }\n    },\n    {\n      \"column\": \"jumlah_ulasan\",\n      \"properties\": {\n        \"dtype\": \"boolean\",\n        \"num_unique_values\": 2,\n        \"samples\": [\n          true\n        ],\n        \"semantic_type\": \"\",\n        \"description\": \"\"\n      }\n    },\n    {\n      \"column\": \"negara_asal\",\n      \"properties\": {\n        \"dtype\": \"boolean\",\n        \"num_unique_values\": 1,\n        \"samples\": [\n          false\n        ],\n        \"semantic_type\": \"\",\n        \"description\": \"\"\n      }\n    }\n  ]\n}"
            }
          },
          "metadata": {},
          "execution_count": 19
        }
      ],
      "source": [
        "data.isnull()"
      ]
    },
    {
      "cell_type": "markdown",
      "source": [
        "2a.Cek missing values pada dataset. Berapa jumlah missing values di setiap kolom?\n",
        "\n",
        "Jawab:\n",
        "\n",
        "Jumlah missing values di setiap kolom dapat dilihat pada hasil output di bawah ini:"
      ],
      "metadata": {
        "id": "I-j6jax2qKXg"
      },
      "id": "I-j6jax2qKXg"
    },
    {
      "cell_type": "code",
      "execution_count": 20,
      "id": "b6000de5",
      "metadata": {
        "id": "b6000de5",
        "colab": {
          "base_uri": "https://localhost:8080/",
          "height": 358
        },
        "outputId": "48b628f5-db17-450e-f6cb-6143a75ca53c"
      },
      "outputs": [
        {
          "output_type": "stream",
          "name": "stderr",
          "text": [
            "/usr/local/lib/python3.11/dist-packages/numpy/core/fromnumeric.py:86: FutureWarning: The behavior of DataFrame.sum with axis=None is deprecated, in a future version this will reduce over both axes and return a scalar. To retain the old behavior, pass axis=0 (or do not pass axis)\n",
            "  return reduction(axis=axis, out=out, **passkwargs)\n"
          ]
        },
        {
          "output_type": "execute_result",
          "data": {
            "text/plain": [
              "produk_id         0\n",
              "nama_produk       0\n",
              "kategori          0\n",
              "harga            30\n",
              "rating           50\n",
              "jumlah_ulasan    20\n",
              "negara_asal       0\n",
              "dtype: int64"
            ],
            "text/html": [
              "<div>\n",
              "<style scoped>\n",
              "    .dataframe tbody tr th:only-of-type {\n",
              "        vertical-align: middle;\n",
              "    }\n",
              "\n",
              "    .dataframe tbody tr th {\n",
              "        vertical-align: top;\n",
              "    }\n",
              "\n",
              "    .dataframe thead th {\n",
              "        text-align: right;\n",
              "    }\n",
              "</style>\n",
              "<table border=\"1\" class=\"dataframe\">\n",
              "  <thead>\n",
              "    <tr style=\"text-align: right;\">\n",
              "      <th></th>\n",
              "      <th>0</th>\n",
              "    </tr>\n",
              "  </thead>\n",
              "  <tbody>\n",
              "    <tr>\n",
              "      <th>produk_id</th>\n",
              "      <td>0</td>\n",
              "    </tr>\n",
              "    <tr>\n",
              "      <th>nama_produk</th>\n",
              "      <td>0</td>\n",
              "    </tr>\n",
              "    <tr>\n",
              "      <th>kategori</th>\n",
              "      <td>0</td>\n",
              "    </tr>\n",
              "    <tr>\n",
              "      <th>harga</th>\n",
              "      <td>30</td>\n",
              "    </tr>\n",
              "    <tr>\n",
              "      <th>rating</th>\n",
              "      <td>50</td>\n",
              "    </tr>\n",
              "    <tr>\n",
              "      <th>jumlah_ulasan</th>\n",
              "      <td>20</td>\n",
              "    </tr>\n",
              "    <tr>\n",
              "      <th>negara_asal</th>\n",
              "      <td>0</td>\n",
              "    </tr>\n",
              "  </tbody>\n",
              "</table>\n",
              "</div><br><label><b>dtype:</b> int64</label>"
            ]
          },
          "metadata": {},
          "execution_count": 20
        }
      ],
      "source": [
        "np.sum(data.isnull())"
      ]
    },
    {
      "cell_type": "markdown",
      "id": "85e2f2ad",
      "metadata": {
        "id": "85e2f2ad"
      },
      "source": [
        "Berdasarkan output summarize tersebut, diperoleh bahwa kolom yang mengandung Missing Values (blanks/ N/A (Python : nan atau NaN)) adalah kolom harga, rating, dan jumlah_ulasan. Jumlah missing values di kolom harga, rating, dan jumlah_ulasan berturut-turut adalah 30, 50, dan 20."
      ]
    },
    {
      "cell_type": "code",
      "execution_count": 23,
      "id": "0dffd03f",
      "metadata": {
        "id": "0dffd03f",
        "colab": {
          "base_uri": "https://localhost:8080/"
        },
        "outputId": "36f4671c-0384-4c0f-8e63-e9dbfd44d5f4"
      },
      "outputs": [
        {
          "output_type": "execute_result",
          "data": {
            "text/plain": [
              "100"
            ]
          },
          "metadata": {},
          "execution_count": 23
        }
      ],
      "source": [
        "#mengetahui jumlah missing value di seluruh dataset\n",
        "data.isnull().sum().sum()"
      ]
    },
    {
      "cell_type": "markdown",
      "source": [
        "Sedangkan jumlah missing values di seluruh dataset adalah sebanyak 100."
      ],
      "metadata": {
        "id": "Bs2N2JdvqWJk"
      },
      "id": "Bs2N2JdvqWJk"
    },
    {
      "cell_type": "code",
      "source": [],
      "metadata": {
        "id": "xZki25KDfdvM"
      },
      "id": "xZki25KDfdvM",
      "execution_count": 21,
      "outputs": []
    },
    {
      "cell_type": "markdown",
      "source": [
        "2b. Jelaskan bagaimana keberadaan missing values dapat memengaruhi analisis data.\n",
        "Jawab:\n",
        "\n",
        "Missing values memiliki dampak terhadap terhadap analisis data yaitu:\n",
        "1. mengurangi keakuratan data.\n",
        "2. menimbulkan error.\n",
        "3. menyebabkan distorsi dalam statistik.\n",
        "4. menyulitkan visualisasi data."
      ],
      "metadata": {
        "id": "qieQ6F4RBWN6"
      },
      "id": "qieQ6F4RBWN6"
    },
    {
      "cell_type": "markdown",
      "id": "8fbe1ddb",
      "metadata": {
        "id": "8fbe1ddb"
      },
      "source": [
        "# HANDLING MISSING VALUE"
      ]
    },
    {
      "cell_type": "markdown",
      "id": "9140ac2a",
      "metadata": {
        "id": "9140ac2a"
      },
      "source": [
        "Dalam Machine Learning, missing values adalah masalah umum yang harus ditangani sebelum model dapat digunakan. Ada beberapa metode untuk menangani missing values, tergantung pada jenis data dan karakteristik distribusinya."
      ]
    },
    {
      "cell_type": "markdown",
      "source": [
        "2c. Tentukan metode yang paling sesuai untuk menangani missing values di setiap\n",
        "kolom. Berikan alasan pemilihan metode tersebut.\n",
        "\n",
        "Jawab:\n",
        "\n",
        "Metode yang digunakan untuk setiap kolom:\n",
        "\n",
        "\n",
        "1.   Harga\n",
        "\n",
        " Pada kolom harga, produk elektronik bisa sangat bervariasi (misalnya, ada produk murah dan mahal). Mean tidak ideal karena dapat terpengaruh oleh outlier (misalnya, produk flagship dengan harga tinggi bisa menaikkan rata-rata). Oleh karena itu, median lebih aman karena mengambil nilai tengah dan tidak terpengaruh oleh harga ekstrem.\n",
        "   \n",
        "2.   Rating\n",
        "\n",
        "  Pada kolom rating, rating biasanya berada dalam skala 1 - 5, jadi nilainya tidak memiliki outlier ekstrem yang dapat merusak rata-rata. Mean cocok karena rating umumnya terdistribusi normal dalam suatu kategori produk. Median juga dapat digunakan, tetapi mean lebih umum dalam kasus rating.\n",
        "\n",
        "3. Jumlah_Ulasan\n",
        "\n",
        "  Pada kolom jumlah_ulasan, jumlah ulasan dapat sangat bervariasi, misalnya ada produk dengan ratusan atau ribuan ulasan, sementara yang lain hanya memiliki sedikit ulasan.\n",
        "  Mean tidak ideal karena bisa dipengaruhi oleh produk yang viral atau sangat populer.\n",
        "  Median lebih masuk akal karena menunjukkan jumlah ulasan yang lebih representatif untuk sebagian besar produk.\n",
        "\n",
        "2d. Tangani missing values dengan metode yang sesuai.\n",
        "\n",
        "Jawab:"
      ],
      "metadata": {
        "id": "QFV2ZdEvq9RS"
      },
      "id": "QFV2ZdEvq9RS"
    },
    {
      "cell_type": "markdown",
      "id": "e7c6845e",
      "metadata": {
        "id": "e7c6845e"
      },
      "source": [
        "## 1. HARGA"
      ]
    },
    {
      "cell_type": "code",
      "execution_count": 24,
      "id": "dd3c1d85",
      "metadata": {
        "id": "dd3c1d85",
        "colab": {
          "base_uri": "https://localhost:8080/"
        },
        "outputId": "a21a74d5-f902-425d-9d25-acaaf82332e9"
      },
      "outputs": [
        {
          "output_type": "execute_result",
          "data": {
            "text/plain": [
              "array([ 7.460e+02,  2.410e+02,  8.100e+02,  3.030e+02,  2.520e+02,\n",
              "        3.350e+02,  8.900e+02,  4.910e+02,  6.050e+02,  4.630e+02,\n",
              "        4.810e+02,  3.980e+02,  5.100e+02,  5.980e+02,  8.350e+02,\n",
              "        1.250e+02,  8.220e+02,  4.260e+02,  3.900e+02,  7.080e+02,\n",
              "        5.450e+02,        nan,  5.720e+02,  7.280e+02,  6.710e+02,\n",
              "        3.740e+02,  2.310e+02,  4.340e+02,  1.150e+03,  3.310e+02,\n",
              "        5.780e+02,  4.750e+02,  4.590e+02,  9.040e+02,  4.970e+02,\n",
              "        5.400e+02,  3.390e+02,  2.110e+02,  8.620e+02,  5.800e+02,\n",
              "        5.180e+02,  5.160e+02,  4.480e+02,  7.360e+02,  2.280e+02,\n",
              "        1.830e+02,  5.150e+02,  7.120e+02,  5.470e+02,  4.360e+02,\n",
              "        5.910e+02,  5.370e+02,  6.650e+02,  7.650e+02,  3.090e+02,\n",
              "        4.290e+02,  2.960e+02,  6.660e+02,  3.550e+02,  1.240e+02,\n",
              "        3.850e+02,  2.010e+02,  8.180e+02,  5.940e+02,  6.290e+02,\n",
              "        6.070e+02,  6.680e+02,  7.260e+02,  3.920e+02,  2.160e+02,\n",
              "        3.300e+02,  4.900e+02, -1.200e+01,  1.200e+02,  6.190e+02,\n",
              "        4.660e+02,  5.570e+02,  4.050e+02,  5.430e+02,  3.880e+02,\n",
              "        3.200e+02,  8.050e+02,  5.730e+02,  5.410e+02,  3.240e+02,\n",
              "        4.530e+02,  3.020e+02,  4.010e+02,  2.580e+02,  8.170e+02,\n",
              "        3.480e+02,  2.340e+02,  3.450e+02,  3.700e+02,  1.790e+02,\n",
              "        1.970e+02,  6.350e+02,  6.560e+02,  5.300e+02,  2.530e+02,\n",
              "        7.790e+02,  4.100e+02,  8.341e+03,  7.740e+02,  3.640e+02,\n",
              "        7.300e+02,  4.240e+02,  3.610e+02,  5.210e+02,  5.680e+02,\n",
              "        8.820e+02,  5.630e+02,  5.380e+02,  8.190e+02,  6.200e+02,\n",
              "        7.710e+02,  3.520e+02,  3.120e+02,  5.660e+02, -1.950e+02,\n",
              "        4.460e+02,  3.960e+02,  6.780e+02,  4.220e+02,  7.290e+02,\n",
              "        5.460e+02,  6.600e+02,  5.480e+02,  6.640e+02,  9.100e+02,\n",
              "        5.500e+02,  4.090e+02,  9.400e+01,  4.470e+02,  6.060e+02,\n",
              "        8.810e+02,  4.610e+02,  7.830e+02,  5.920e+02,  6.170e+02,\n",
              "        1.950e+02,  7.410e+02,  5.750e+02,  2.250e+02,  5.970e+02,\n",
              "        8.700e+01,  9.680e+02,  2.790e+02,  3.370e+02,  6.120e+02,\n",
              "        3.170e+02,  6.990e+02,  4.520e+02,  5.930e+02,  5.030e+02,\n",
              "        2.260e+02,  6.000e+02,  3.990e+02,  7.090e+02,  4.840e+02,\n",
              "        8.360e+02,  9.760e+02,  6.570e+02,  4.420e+02,  4.250e+02,\n",
              "        3.360e+02,  4.450e+02,  8.920e+02,  4.600e+02,  2.540e+02,\n",
              "        5.080e+02,  5.070e+02,  6.590e+02,  5.130e+02,  6.530e+02,\n",
              "        3.430e+02,  8.560e+02,  6.300e+02,  2.660e+02,  1.680e+02,\n",
              "        5.580e+02,  4.020e+02,  5.510e+02,  1.870e+02,  4.300e+02,\n",
              "        7.700e+01,  7.680e+02,  2.380e+02,  3.750e+02,  8.290e+02,\n",
              "        7.950e+02,  8.970e+02,  2.720e+02,  7.123e+03,  1.720e+02,\n",
              "        5.990e+02,  4.580e+02,  4.400e+01,  5.290e+02,  8.590e+02,\n",
              "        4.850e+02,  6.130e+02,  1.500e+02,  1.023e+03,  4.130e+02,\n",
              "        6.280e+02,  8.690e+02,  5.530e+02,  4.570e+02,  5.270e+02,\n",
              "        6.520e+02,  5.020e+02,  6.760e+02,  1.630e+02,  8.990e+02,\n",
              "        8.960e+02,  6.250e+02,  2.970e+02,  9.770e+02,  3.790e+02,\n",
              "        5.900e+02,  6.360e+02,  4.710e+02,  6.330e+02,  4.620e+02,\n",
              "        6.150e+02,  6.270e+02,  4.110e+02,  6.210e+02,  8.410e+02,\n",
              "        8.540e+02,  4.200e+02,  6.610e+02,  8.020e+02,  1.270e+02,\n",
              "        6.370e+02,  3.200e+01,  4.200e+01,  7.860e+02,  7.420e+02,\n",
              "        3.230e+02,  6.020e+02,  5.950e+02,  6.940e+02,  6.440e+02,\n",
              "        4.140e+02,  4.890e+02,  8.680e+02,  4.180e+02,  5.520e+02,\n",
              "        5.100e+01,  9.510e+02,  3.130e+02,  1.134e+03,  5.360e+02,\n",
              "       -1.400e+01,  7.660e+02,  6.430e+02,  8.130e+02,  2.640e+02,\n",
              "        3.630e+02,  1.640e+02,  3.780e+02,  5.420e+02,  6.730e+02,\n",
              "        7.600e+02,  4.000e+02,  5.830e+02,  2.800e+02,  6.230e+02,\n",
              "        3.730e+02,  3.160e+02,  5.490e+02,  7.100e+02,  4.500e+02,\n",
              "        4.860e+02,  4.920e+02,  5.840e+03,  2.610e+02,  5.550e+02,\n",
              "        3.560e+02,  6.810e+02,  3.650e+02,  3.680e+02,  5.890e+02,\n",
              "        9.550e+02,  1.740e+02,  7.250e+02,  3.840e+02,  3.250e+02,\n",
              "        1.770e+02,  7.690e+02,  2.130e+02,  7.930e+02,  5.600e+02,\n",
              "        7.330e+02,  7.070e+02,  2.990e+02,  9.850e+02,  8.890e+02,\n",
              "        3.870e+02, -2.130e+02,  4.280e+02,  3.860e+02,  4.550e+02,\n",
              "        3.340e+02,  6.840e+02,  5.120e+02,  6.900e+02,  7.440e+02,\n",
              "        6.500e+01,  1.014e+03,  6.620e+02,  1.230e+02,  5.280e+02,\n",
              "        6.950e+02,  6.720e+02,  5.598e+03,  1.610e+02,  3.190e+02,\n",
              "        7.730e+02,  6.910e+02,  6.490e+02,  7.010e+02,  4.800e+02,\n",
              "        4.040e+02,  7.030e+02,  7.500e+02,  5.330e+02,  3.040e+02,\n",
              "        4.960e+02,  4.870e+02,  8.400e+02,  5.170e+02,  3.410e+02,\n",
              "        8.240e+02,  2.910e+02,  5.590e+02,  6.240e+02,  5.250e+02,\n",
              "        4.990e+02, -1.500e+01,  5.620e+02,  4.150e+02,  6.420e+02,\n",
              "        2.330e+02,  4.560e+02,  4.350e+02,  4.160e+02,  7.900e+02,\n",
              "        5.740e+02,  4.760e+02,  4.540e+02,  5.860e+02,  6.080e+02,\n",
              "        5.260e+02,  6.030e+02,  5.224e+03,  2.760e+02,  1.560e+02,\n",
              "        5.560e+02,  4.430e+02,  2.900e+02,  7.600e+01,  1.430e+02,\n",
              "        8.200e+02,  3.400e+02,  4.380e+02,  6.320e+02,  7.020e+02,\n",
              "        3.260e+02,  7.560e+02,  6.670e+02,  7.050e+02,  4.230e+02,\n",
              "        5.200e+02,  3.930e+02,  1.090e+02,  4.440e+02,  5.710e+02,\n",
              "        3.820e+02,  4.690e+02, -4.200e+01,  7.590e+02,  6.800e+02,\n",
              "        9.700e+01, -5.000e+00,  7.880e+02,  1.190e+02,  5.350e+02,\n",
              "        7.770e+02, -2.900e+01,  6.450e+02,  4.650e+02,  4.950e+02])"
            ]
          },
          "metadata": {},
          "execution_count": 24
        }
      ],
      "source": [
        "#melihat isi dalam kolom harga\n",
        "data['harga'].unique()"
      ]
    },
    {
      "cell_type": "code",
      "execution_count": 25,
      "id": "434f667c",
      "metadata": {
        "id": "434f667c",
        "colab": {
          "base_uri": "https://localhost:8080/"
        },
        "outputId": "978289e4-c001-4c08-d9bd-658b0f0e664a"
      },
      "outputs": [
        {
          "output_type": "execute_result",
          "data": {
            "text/plain": [
              "30"
            ]
          },
          "metadata": {},
          "execution_count": 25
        }
      ],
      "source": [
        "#jumlah missing value\n",
        "np.sum(data['harga'].isnull())"
      ]
    },
    {
      "cell_type": "code",
      "execution_count": 28,
      "id": "32c5b8a4",
      "metadata": {
        "id": "32c5b8a4"
      },
      "outputs": [],
      "source": [
        "#mengisi missing value\n",
        "data['harga']=data['harga'].fillna(data['harga'].median())"
      ]
    },
    {
      "cell_type": "code",
      "execution_count": 29,
      "id": "ea75bd04",
      "metadata": {
        "id": "ea75bd04",
        "colab": {
          "base_uri": "https://localhost:8080/"
        },
        "outputId": "25133ed7-6d5d-410d-add1-0ccd599b570d"
      },
      "outputs": [
        {
          "output_type": "execute_result",
          "data": {
            "text/plain": [
              "0"
            ]
          },
          "metadata": {},
          "execution_count": 29
        }
      ],
      "source": [
        "#jumlah missing value\n",
        "np.sum(data['harga'].isnull())"
      ]
    },
    {
      "cell_type": "markdown",
      "id": "c4ce6da2",
      "metadata": {
        "id": "c4ce6da2"
      },
      "source": [
        "## 2. RATING"
      ]
    },
    {
      "cell_type": "code",
      "execution_count": 30,
      "id": "194aa56f",
      "metadata": {
        "id": "194aa56f",
        "colab": {
          "base_uri": "https://localhost:8080/"
        },
        "outputId": "a5dcac4f-8e15-42e2-da0c-c43ab70df03c"
      },
      "outputs": [
        {
          "output_type": "execute_result",
          "data": {
            "text/plain": [
              "array([4.2, 3.5, 3.8, 3.2, 3.7, 4. , 4.5, 3. , 3.9, 3.6, 4.7, 4.4, nan,\n",
              "       3.1, 4.9, 4.6, 5. , 4.8, 4.3, 3.4, 4.1, 3.3])"
            ]
          },
          "metadata": {},
          "execution_count": 30
        }
      ],
      "source": [
        "#melihat isi dalam kolom\n",
        "data['rating'].unique()"
      ]
    },
    {
      "cell_type": "code",
      "execution_count": 31,
      "id": "37ced13e",
      "metadata": {
        "id": "37ced13e",
        "colab": {
          "base_uri": "https://localhost:8080/"
        },
        "outputId": "7110b7f5-1b5c-44f8-b765-9c1a26605631"
      },
      "outputs": [
        {
          "output_type": "execute_result",
          "data": {
            "text/plain": [
              "50"
            ]
          },
          "metadata": {},
          "execution_count": 31
        }
      ],
      "source": [
        "#jumlah missing value\n",
        "np.sum(data['rating'].isnull())"
      ]
    },
    {
      "cell_type": "code",
      "execution_count": 32,
      "id": "a2d612f2",
      "metadata": {
        "id": "a2d612f2"
      },
      "outputs": [],
      "source": [
        "#mengisi missing value\n",
        "data['rating']=data['rating'].fillna(data['rating'].mean())"
      ]
    },
    {
      "cell_type": "code",
      "execution_count": 33,
      "id": "400b6c4d",
      "metadata": {
        "id": "400b6c4d",
        "colab": {
          "base_uri": "https://localhost:8080/"
        },
        "outputId": "d29064dc-291f-4c29-d366-48291ab0fc07"
      },
      "outputs": [
        {
          "output_type": "execute_result",
          "data": {
            "text/plain": [
              "0"
            ]
          },
          "metadata": {},
          "execution_count": 33
        }
      ],
      "source": [
        "#jumlah missing value\n",
        "np.sum(data['rating'].isnull())"
      ]
    },
    {
      "cell_type": "code",
      "execution_count": 34,
      "id": "6b3676ae",
      "metadata": {
        "id": "6b3676ae",
        "colab": {
          "base_uri": "https://localhost:8080/"
        },
        "outputId": "4373e634-9258-42b8-9e6b-66277bcb838c"
      },
      "outputs": [
        {
          "output_type": "execute_result",
          "data": {
            "text/plain": [
              "array([4.2   , 3.5   , 3.8   , 3.2   , 3.7   , 4.    , 4.5   , 3.    ,\n",
              "       3.9   , 3.6   , 4.7   , 4.4   , 4.0056, 3.1   , 4.9   , 4.6   ,\n",
              "       5.    , 4.8   , 4.3   , 3.4   , 4.1   , 3.3   ])"
            ]
          },
          "metadata": {},
          "execution_count": 34
        }
      ],
      "source": [
        "#melihat isi dalam kolom\n",
        "data['rating'].unique()"
      ]
    },
    {
      "cell_type": "markdown",
      "id": "775927c0",
      "metadata": {
        "id": "775927c0"
      },
      "source": [
        "## 3. JUMLAH ULASAN"
      ]
    },
    {
      "cell_type": "code",
      "execution_count": 35,
      "id": "7a669a4e",
      "metadata": {
        "id": "7a669a4e",
        "colab": {
          "base_uri": "https://localhost:8080/"
        },
        "outputId": "a21f8476-2c62-41d3-9352-680e731d1c75"
      },
      "outputs": [
        {
          "output_type": "execute_result",
          "data": {
            "text/plain": [
              "array([273., 239., 209.,  59.,  76., 309., 390.,  67., 268.,  nan, 335.,\n",
              "       139., 224., 181., 267., 111., 218., 300., 363., 480., 295., 125.,\n",
              "       159., 451.,  45., 462., 342., 486., 296., 312., 320., 217., 115.,\n",
              "       455., 167., 130.,  64., 409.,  21., 154., 405., 145., 477.,  12.,\n",
              "       153.,  39., 246., 288., 357., 113., 127.,  14., 257., 373., 330.,\n",
              "       158.,  93., 463., 475., 465., 240., 297., 170., 281., 469.,  47.,\n",
              "       235., 151., 301., 490., 160., 123.,  75., 370., 350., 484., 258.,\n",
              "       466., 458., 340., 332., 189., 199., 416., 163., 205., 271., 428.,\n",
              "       415., 436., 152., 351., 110., 253., 499., 248.,  58.,  51., 175.,\n",
              "        91., 438., 225., 471., 143., 345.,  16., 445.,  23.,  82., 408.,\n",
              "       414., 172., 356., 215., 285., 265., 275.,  34., 459., 290., 262.,\n",
              "       319., 298., 173., 104., 119., 247., 396., 492., 434., 399., 150.,\n",
              "       126., 491., 401., 461.,  88.,  77., 182., 453., 137., 105., 101.,\n",
              "        40., 343.,  29., 155., 325., 456., 169., 358.,  52., 263.,  69.,\n",
              "       476., 427., 354., 391., 276., 187., 424.,  65., 472.,  92., 402.,\n",
              "       108., 338., 165., 380., 272., 261., 106., 269., 112.,  49., 282.,\n",
              "       368., 389., 317., 230., 429., 133., 431.,  72., 494., 200.,  71.,\n",
              "       164., 479., 464., 238.,  95., 142., 192., 395., 228., 255., 147.,\n",
              "       323., 385., 432., 398.,  74.,  22., 222., 483., 190., 347., 474.,\n",
              "       197., 404., 291.,  43.,  61., 121., 241., 236., 242., 422.,  30.,\n",
              "       406., 122., 114., 201.,  26., 129., 138.,  57.,  38.,  19., 286.,\n",
              "       293., 212., 256., 299., 452., 223., 442., 410., 352., 353., 425.,\n",
              "       437.,  96.,  17., 394., 118., 444., 417., 161., 157., 375., 237.,\n",
              "       148., 220., 400.,  37.,  60., 270., 359., 361., 329., 120., 489.,\n",
              "       377., 229., 346., 232., 369., 418., 443., 460.,  87., 178., 226.,\n",
              "       387., 128., 264., 379., 149., 497., 383., 278., 360.,  20., 280.,\n",
              "       433., 411., 162., 324., 482., 287., 423., 183., 131.,  41., 231.,\n",
              "        48., 277., 440.,  27., 135., 311., 144., 245., 233., 244.,  31.,\n",
              "       294., 292.,  97.,  53., 470., 180., 430., 198., 362., 193.,  28.,\n",
              "        32., 304., 117., 376., 371., 195.,  81., 397., 393.])"
            ]
          },
          "metadata": {},
          "execution_count": 35
        }
      ],
      "source": [
        "#melihat isi dalam kolom\n",
        "data['jumlah_ulasan'].unique()"
      ]
    },
    {
      "cell_type": "code",
      "execution_count": 36,
      "id": "b2a76ddb",
      "metadata": {
        "id": "b2a76ddb",
        "colab": {
          "base_uri": "https://localhost:8080/"
        },
        "outputId": "f6a8d897-62ce-4892-e266-fc7aa3671958"
      },
      "outputs": [
        {
          "output_type": "execute_result",
          "data": {
            "text/plain": [
              "20"
            ]
          },
          "metadata": {},
          "execution_count": 36
        }
      ],
      "source": [
        "#jumlah missing value\n",
        "np.sum(data['jumlah_ulasan'].isnull())"
      ]
    },
    {
      "cell_type": "code",
      "execution_count": 40,
      "id": "1cd65807",
      "metadata": {
        "id": "1cd65807"
      },
      "outputs": [],
      "source": [
        "#mengisi missing value\n",
        "data['jumlah_ulasan']=data['jumlah_ulasan'].fillna(data['jumlah_ulasan'].median())"
      ]
    },
    {
      "cell_type": "code",
      "execution_count": 41,
      "id": "a880b6a9",
      "metadata": {
        "id": "a880b6a9",
        "colab": {
          "base_uri": "https://localhost:8080/"
        },
        "outputId": "8eff3d39-926a-4602-8af3-797243af6c6f"
      },
      "outputs": [
        {
          "output_type": "execute_result",
          "data": {
            "text/plain": [
              "0"
            ]
          },
          "metadata": {},
          "execution_count": 41
        }
      ],
      "source": [
        "#jumlah missing value\n",
        "np.sum(data['jumlah_ulasan'].isnull())"
      ]
    },
    {
      "cell_type": "markdown",
      "id": "9e97c77b",
      "metadata": {
        "id": "9e97c77b"
      },
      "source": [
        "## Mengecek Missing Values Kembali"
      ]
    },
    {
      "cell_type": "code",
      "execution_count": 42,
      "id": "664b5253",
      "metadata": {
        "id": "664b5253",
        "colab": {
          "base_uri": "https://localhost:8080/",
          "height": 358
        },
        "outputId": "15c79331-9eef-4c59-e358-c47a734638e2"
      },
      "outputs": [
        {
          "output_type": "stream",
          "name": "stderr",
          "text": [
            "/usr/local/lib/python3.11/dist-packages/numpy/core/fromnumeric.py:86: FutureWarning: The behavior of DataFrame.sum with axis=None is deprecated, in a future version this will reduce over both axes and return a scalar. To retain the old behavior, pass axis=0 (or do not pass axis)\n",
            "  return reduction(axis=axis, out=out, **passkwargs)\n"
          ]
        },
        {
          "output_type": "execute_result",
          "data": {
            "text/plain": [
              "produk_id        0\n",
              "nama_produk      0\n",
              "kategori         0\n",
              "harga            0\n",
              "rating           0\n",
              "jumlah_ulasan    0\n",
              "negara_asal      0\n",
              "dtype: int64"
            ],
            "text/html": [
              "<div>\n",
              "<style scoped>\n",
              "    .dataframe tbody tr th:only-of-type {\n",
              "        vertical-align: middle;\n",
              "    }\n",
              "\n",
              "    .dataframe tbody tr th {\n",
              "        vertical-align: top;\n",
              "    }\n",
              "\n",
              "    .dataframe thead th {\n",
              "        text-align: right;\n",
              "    }\n",
              "</style>\n",
              "<table border=\"1\" class=\"dataframe\">\n",
              "  <thead>\n",
              "    <tr style=\"text-align: right;\">\n",
              "      <th></th>\n",
              "      <th>0</th>\n",
              "    </tr>\n",
              "  </thead>\n",
              "  <tbody>\n",
              "    <tr>\n",
              "      <th>produk_id</th>\n",
              "      <td>0</td>\n",
              "    </tr>\n",
              "    <tr>\n",
              "      <th>nama_produk</th>\n",
              "      <td>0</td>\n",
              "    </tr>\n",
              "    <tr>\n",
              "      <th>kategori</th>\n",
              "      <td>0</td>\n",
              "    </tr>\n",
              "    <tr>\n",
              "      <th>harga</th>\n",
              "      <td>0</td>\n",
              "    </tr>\n",
              "    <tr>\n",
              "      <th>rating</th>\n",
              "      <td>0</td>\n",
              "    </tr>\n",
              "    <tr>\n",
              "      <th>jumlah_ulasan</th>\n",
              "      <td>0</td>\n",
              "    </tr>\n",
              "    <tr>\n",
              "      <th>negara_asal</th>\n",
              "      <td>0</td>\n",
              "    </tr>\n",
              "  </tbody>\n",
              "</table>\n",
              "</div><br><label><b>dtype:</b> int64</label>"
            ]
          },
          "metadata": {},
          "execution_count": 42
        }
      ],
      "source": [
        "np.sum(data.isnull())"
      ]
    },
    {
      "cell_type": "code",
      "execution_count": 43,
      "id": "9ae44fd4",
      "metadata": {
        "id": "9ae44fd4",
        "colab": {
          "base_uri": "https://localhost:8080/"
        },
        "outputId": "d802bb5f-cfa1-4f0a-fcb2-f0e4bffb0acb"
      },
      "outputs": [
        {
          "output_type": "stream",
          "name": "stdout",
          "text": [
            "<class 'pandas.core.frame.DataFrame'>\n",
            "RangeIndex: 550 entries, 0 to 549\n",
            "Data columns (total 7 columns):\n",
            " #   Column         Non-Null Count  Dtype  \n",
            "---  ------         --------------  -----  \n",
            " 0   produk_id      550 non-null    int64  \n",
            " 1   nama_produk    550 non-null    object \n",
            " 2   kategori       550 non-null    object \n",
            " 3   harga          550 non-null    float64\n",
            " 4   rating         550 non-null    float64\n",
            " 5   jumlah_ulasan  550 non-null    float64\n",
            " 6   negara_asal    550 non-null    object \n",
            "dtypes: float64(3), int64(1), object(3)\n",
            "memory usage: 30.2+ KB\n"
          ]
        }
      ],
      "source": [
        "data.info()"
      ]
    },
    {
      "cell_type": "markdown",
      "source": [
        "Berdasarkan hasil output di atas, dapat dilihat bahwa missing values sudah berhasil ditangani. Hal ini ditandai dengan setiap kolom sudah mencapai  jumlah maksimum baris yaitu 550 baris."
      ],
      "metadata": {
        "id": "4h6gGQ9ekqwg"
      },
      "id": "4h6gGQ9ekqwg"
    },
    {
      "cell_type": "markdown",
      "id": "786e969b",
      "metadata": {
        "id": "786e969b"
      },
      "source": [
        "# CEK DAN PENANGANAN OUTLIER"
      ]
    },
    {
      "cell_type": "markdown",
      "id": "efdbe504",
      "metadata": {
        "id": "efdbe504"
      },
      "source": [
        "3a. Identifikasi outlier dalam dataset.\n",
        "\n",
        "Jawab:\n",
        "\n",
        "**Cek Outlier**\n",
        "Outlier dapat dideteksi menggunakan beberapa metode:\n",
        "\n",
        "1. Boxplot → Visualisasi distribusi dan outlier\n",
        "2. Interquartile Range (IQR) → Mengidentifikasi outlier berdasarkan distribusi kuartil"
      ]
    },
    {
      "cell_type": "markdown",
      "id": "b46f01c7",
      "metadata": {
        "id": "b46f01c7"
      },
      "source": [
        "**1. Boxplot**"
      ]
    },
    {
      "cell_type": "code",
      "execution_count": 46,
      "id": "c47d96f5",
      "metadata": {
        "id": "c47d96f5",
        "colab": {
          "base_uri": "https://localhost:8080/",
          "height": 503
        },
        "outputId": "2261ad48-c1b1-4aaf-df42-efc4842609f1"
      },
      "outputs": [
        {
          "output_type": "display_data",
          "data": {
            "text/plain": [
              "<Figure size 1500x500 with 3 Axes>"
            ],
            "image/png": "[encoded data removed]"
          },
          "metadata": {}
        }
      ],
      "source": [
        "import matplotlib.pyplot as plt\n",
        "import seaborn as sns\n",
        "\n",
        "# Kolom numerik yang ingin dicek outliernya\n",
        "num_cols = ['harga','rating','jumlah_ulasan']\n",
        "\n",
        "# Visualisasi Boxplot\n",
        "plt.figure(figsize=(15, 5))\n",
        "for i, col in enumerate(num_cols, 1):\n",
        "    plt.subplot(1, 3, i)\n",
        "    sns.boxplot(y=data[col])\n",
        "    plt.title(col)\n",
        "plt.tight_layout()\n",
        "plt.show()\n"
      ]
    },
    {
      "cell_type": "markdown",
      "source": [
        "Keterangan: Jika ada titik yang jauh dari kotak dalam boxplot, itu adalah outlier.\n",
        "1. Harga\n",
        "\n",
        "  Pada kolom harga, boxplot menunjukkan bahwa terdapat banyak outlier. Sebagian besar data berada dalam rentang yang lebih rendah (dekat dengan 0-500), tetapi ada beberapa harga yang sangat tinggi (di atas 8000) yang dianggap sebagai outlier. Artinya, harga produk dalam dataset memiliki distribusi yang right-skewed (positively skewed), dengan beberapa produk yang memiliki harga jauh lebih mahal dibandingkan mayoritas produk lainnya.\n",
        "2. Rating\n",
        "\n",
        "  Tidak ada outlier yang terlihat pada kolom ini. Rating produk cenderung terdistribusi normal, dengan sebagian besar produk memiliki rating antara 3.5 - 4.5.\n",
        "3. Jumlah_ulasan\n",
        "\n",
        "  Tidak ada outlier yang terlihat pada kolom ini. Sebaran data cukup luas, dengan median berada di sekitar 250 ulasan. Sehingga, jumlah ulasan memiliki distribusi yang cukup merata."
      ],
      "metadata": {
        "id": "SK3h2Onl7yc-"
      },
      "id": "SK3h2Onl7yc-"
    },
    {
      "cell_type": "markdown",
      "id": "1fd960bc",
      "metadata": {
        "id": "1fd960bc"
      },
      "source": [
        "**2. IQR**"
      ]
    },
    {
      "cell_type": "code",
      "execution_count": 47,
      "id": "21ef1fc5",
      "metadata": {
        "id": "21ef1fc5",
        "colab": {
          "base_uri": "https://localhost:8080/"
        },
        "outputId": "caab3a70-a1ed-402f-b282-4fbcbbabcfb3"
      },
      "outputs": [
        {
          "output_type": "stream",
          "name": "stdout",
          "text": [
            "harga: 14 outliers\n",
            "rating: 0 outliers\n",
            "jumlah_ulasan: 0 outliers\n"
          ]
        }
      ],
      "source": [
        "def detect_outliers_iqr(data, column):\n",
        "    Q1 = data[column].quantile(0.25)  # Kuartil 1\n",
        "    Q3 = data[column].quantile(0.75)  # Kuartil 3\n",
        "    IQR = Q3 - Q1  # Rentang interkuartil\n",
        "    lower_bound = Q1 - 1.5 * IQR\n",
        "    upper_bound = Q3 + 1.5 * IQR\n",
        "    return data[(data[column] < lower_bound) | (data[column] > upper_bound)]\n",
        "\n",
        "# Cek jumlah outlier untuk setiap kolom numerik\n",
        "for col in num_cols:\n",
        "    outliers = detect_outliers_iqr(data, col)\n",
        "    print(f\"{col}: {len(outliers)} outliers\")\n"
      ]
    },
    {
      "cell_type": "markdown",
      "source": [
        "Keterangan: Hasil output di atas menunjukkan jumlah outlier pada setiap kolom numerik. Dapat dilihat bahwa pada kolom harga terdapat 14 outlier, sedangkan pada kolom rating dan jumlah_ulasan tidak terdapat outlier."
      ],
      "metadata": {
        "id": "l_CGTFHH77pv"
      },
      "id": "l_CGTFHH77pv"
    },
    {
      "cell_type": "markdown",
      "source": [
        "3b. Apa dampak dari keberadaan outlier terhadap analisis?\n",
        "\n",
        "Jawab:\n",
        "Dampak dari keberadaan outlier terhadap analisis\n",
        "\n",
        "1. Mengganggu mean. Jika ada nilai yang sangat besar/kecil, mean bisa jadi tidak mewakili data.\n",
        "\n",
        "2. Memengaruhi model prediktif. Model regresi bisa bias karena outlier.\n",
        "\n",
        "3. Mengubah distribusi data. Distribusi bisa menjadi skewed, sehingga pemilihan metode analisis harus disesuaikan."
      ],
      "metadata": {
        "id": "MjQclpq-B6Oa"
      },
      "id": "MjQclpq-B6Oa"
    },
    {
      "cell_type": "markdown",
      "id": "a24c3990",
      "metadata": {
        "id": "a24c3990"
      },
      "source": [
        "**Penanganan Outlier**\n",
        "\n",
        "Berdasarkan jumlah dan dampak outlier, ada beberapa metode yang bisa digunakan:\n",
        "\n",
        "📌 A. Winsorizing (Mengganti Outlier dengan Batas IQR)\n",
        "\n",
        "Alasan: Jika data penting dan tidak boleh dihapus, kita bisa mengganti outlier dengan batas kuartil.\n",
        "\n",
        "📌 B. Menghapus Outlier (Jika Jumlahnya Sedikit dan Tidak Signifikan)\n",
        "\n",
        "Alasan: Jika jumlah outlier sangat sedikit dan tidak mempengaruhi distribusi data, bisa dihapus.\n",
        "nb. hal ini tidak akan kita lakukan karena bisa mempengaruhi dimensi data\n"
      ]
    },
    {
      "cell_type": "markdown",
      "source": [
        " 3c.  Pilih metode yang sesuai untuk menangani outlier dan jelaskan alasan pemilihannya.\n",
        "\n",
        " Jawab:\n",
        "\n",
        " Metode yang dipilih adalah Metode Winsorizing. Berikut ini alasan pemilihan Metode Winsorizing.\n",
        " 1. Outlier pada harga cukup banyak (14 data), jadi penghapusan tidak disarankan. Menghapus outlier bisa mengurangi informasi penting dalam data.\n",
        " 2. Harga merupakan variabel numerik kontinu yang mungkin memiliki nilai ekstrem alami (contoh: produk premium yang memang mahal).\n",
        " 3. Winsorizing membantu menjaga distribusi tetap stabil tanpa menghilangkan terlalu banyak data.\n"
      ],
      "metadata": {
        "id": "-znCN4SfC7io"
      },
      "id": "-znCN4SfC7io"
    },
    {
      "cell_type": "markdown",
      "source": [
        " 3d. Menangani outlier dengan metode yang sesuai.\n",
        "\n",
        " Jawab:\n",
        "\n",
        " Berikut ini penanganan outlier dengan menggunakan metode winsorizing:"
      ],
      "metadata": {
        "id": "RWt7JlzUFgjg"
      },
      "id": "RWt7JlzUFgjg"
    },
    {
      "cell_type": "markdown",
      "id": "dd2ec7cc",
      "metadata": {
        "id": "dd2ec7cc"
      },
      "source": [
        "📌 **A. Winsorizing (Mengganti Outlier dengan Batas IQR)**"
      ]
    },
    {
      "cell_type": "code",
      "execution_count": 48,
      "id": "0bf52939",
      "metadata": {
        "id": "0bf52939"
      },
      "outputs": [],
      "source": [
        "def winsorize_iqr(data, column):\n",
        "    Q1 = data[column].quantile(0.25)\n",
        "    Q3 = data[column].quantile(0.75)\n",
        "    IQR = Q3 - Q1\n",
        "    lower_bound = Q1 - 1.5 * IQR\n",
        "    upper_bound = Q3 + 1.5 * IQR\n",
        "    data[column] = np.where(data[column] < lower_bound, lower_bound, data[column])\n",
        "    data[column] = np.where(data[column] > upper_bound, upper_bound, data[column])\n",
        "\n",
        "# Terapkan Winsorizing\n",
        "for col in num_cols:\n",
        "    winsorize_iqr(data, col)"
      ]
    },
    {
      "cell_type": "code",
      "execution_count": 50,
      "id": "524c29ca",
      "metadata": {
        "id": "524c29ca",
        "colab": {
          "base_uri": "https://localhost:8080/",
          "height": 300
        },
        "outputId": "b7f2bfa0-f71d-4504-e3ba-5b76829a15ab"
      },
      "outputs": [
        {
          "output_type": "display_data",
          "data": {
            "text/plain": [
              "<Figure size 1500x800 with 3 Axes>"
            ],
            "image/png": "[encoded data removed]"
          },
          "metadata": {}
        }
      ],
      "source": [
        "#cek boxplot lagi\n",
        "\n",
        "num_cols = ['harga','rating','jumlah_ulasan']\n",
        "\n",
        "# Visualisasi Boxplot\n",
        "plt.figure(figsize=(15, 8))\n",
        "for i, col in enumerate(num_cols, 1):\n",
        "    plt.subplot(3, 4, i)\n",
        "    sns.boxplot(y=data[col])\n",
        "    plt.title(col)\n",
        "plt.tight_layout()\n",
        "plt.show()"
      ]
    },
    {
      "cell_type": "markdown",
      "source": [
        "Keterangan: Berdasarkan hasil output di atas, sudah tidak terdapat outlier pada kolom harga. Untuk kolom rating dan jumlah_ulasan boleh tidak dilakukan penanganan outlier karena pada kedua kolom tersebut tidak terdapat outlier."
      ],
      "metadata": {
        "id": "ODOEtzCm85F_"
      },
      "id": "ODOEtzCm85F_"
    },
    {
      "cell_type": "markdown",
      "id": "87262db2",
      "metadata": {
        "id": "87262db2"
      },
      "source": [
        "# ENCODING DATA KATEGORIK"
      ]
    },
    {
      "cell_type": "markdown",
      "id": "ceeb5509",
      "metadata": {
        "id": "ceeb5509"
      },
      "source": [
        "Encoding adalah proses mengubah data kategorik menjadi bentuk numerik agar dapat digunakan dalam algoritma Machine Learning. Model Machine Learning umumnya hanya dapat bekerja dengan angka, sehingga data kategorik harus dikonversi terlebih dahulu sebelum digunakan dalam pemodelan.\n",
        "\n"
      ]
    },
    {
      "cell_type": "markdown",
      "source": [
        "4a. Tentukan kolom mana yang memerlukan encoding.\n",
        "\n",
        "Jawab:\n",
        "\n",
        "Kolom yang memerlukan encoding adalah kolom produk_id, nama_produk, kategori, dan negara_asal. Karena kolom-kolom tersebut berisi data yang berbentuk kategorik."
      ],
      "metadata": {
        "id": "9-e_oj1-GfuC"
      },
      "id": "9-e_oj1-GfuC"
    },
    {
      "cell_type": "markdown",
      "id": "7a3b8b5d",
      "metadata": {
        "id": "7a3b8b5d"
      },
      "source": [
        "🔹**Metode Encoding dalam Machine Learning**\n",
        "Ada beberapa metode encoding yang umum digunakan, tergantung pada jenis dan karakteristik data kategorik:\n",
        "\n",
        "1. One-Hot Encoding (OHE): Mengubah kategori menjadi beberapa kolom biner (0/1). Digunakan jika jumlah kategori tidak terlalu banyak (menghindari dimensionalitas tinggi) hal ini akan menambah dimensi kolom data.\n",
        "2. Ordinal Encoding\t: Mengubah kategori menjadi angka berurutan (0,1,2,..). Digunakan jika kategori memiliki urutan yang jelas (misalnya pendidikan: SD < SMP < SMA)\n",
        "3. Target Encoding\t: Menggunakan rata-rata target (misalnya rata-rata skor IMDB berdasarkan negara) untuk mengganti kategori. Digunakan jika data memiliki hubungan statistik yang kuat dengan target.\n"
      ]
    },
    {
      "cell_type": "code",
      "execution_count": 51,
      "id": "d7688acf",
      "metadata": {
        "scrolled": true,
        "id": "d7688acf",
        "colab": {
          "base_uri": "https://localhost:8080/"
        },
        "outputId": "0c9f29a0-8701-4950-b9f1-cc11241a9ddc"
      },
      "outputs": [
        {
          "output_type": "execute_result",
          "data": {
            "text/plain": [
              "array([  1,   2,   3,   4,   5,   6,   7,   8,   9,  10,  11,  12,  13,\n",
              "        14,  15,  16,  17,  18,  19,  20,  21,  22,  23,  24,  25,  26,\n",
              "        27,  28,  29,  30,  31,  32,  33,  34,  35,  36,  37,  38,  39,\n",
              "        40,  41,  42,  43,  44,  45,  46,  47,  48,  49,  50,  51,  52,\n",
              "        53,  54,  55,  56,  57,  58,  59,  60,  61,  62,  63,  64,  65,\n",
              "        66,  67,  68,  69,  70,  71,  72,  73,  74,  75,  76,  77,  78,\n",
              "        79,  80,  81,  82,  83,  84,  85,  86,  87,  88,  89,  90,  91,\n",
              "        92,  93,  94,  95,  96,  97,  98,  99, 100, 101, 102, 103, 104,\n",
              "       105, 106, 107, 108, 109, 110, 111, 112, 113, 114, 115, 116, 117,\n",
              "       118, 119, 120, 121, 122, 123, 124, 125, 126, 127, 128, 129, 130,\n",
              "       131, 132, 133, 134, 135, 136, 137, 138, 139, 140, 141, 142, 143,\n",
              "       144, 145, 146, 147, 148, 149, 150, 151, 152, 153, 154, 155, 156,\n",
              "       157, 158, 159, 160, 161, 162, 163, 164, 165, 166, 167, 168, 169,\n",
              "       170, 171, 172, 173, 174, 175, 176, 177, 178, 179, 180, 181, 182,\n",
              "       183, 184, 185, 186, 187, 188, 189, 190, 191, 192, 193, 194, 195,\n",
              "       196, 197, 198, 199, 200, 201, 202, 203, 204, 205, 206, 207, 208,\n",
              "       209, 210, 211, 212, 213, 214, 215, 216, 217, 218, 219, 220, 221,\n",
              "       222, 223, 224, 225, 226, 227, 228, 229, 230, 231, 232, 233, 234,\n",
              "       235, 236, 237, 238, 239, 240, 241, 242, 243, 244, 245, 246, 247,\n",
              "       248, 249, 250, 251, 252, 253, 254, 255, 256, 257, 258, 259, 260,\n",
              "       261, 262, 263, 264, 265, 266, 267, 268, 269, 270, 271, 272, 273,\n",
              "       274, 275, 276, 277, 278, 279, 280, 281, 282, 283, 284, 285, 286,\n",
              "       287, 288, 289, 290, 291, 292, 293, 294, 295, 296, 297, 298, 299,\n",
              "       300, 301, 302, 303, 304, 305, 306, 307, 308, 309, 310, 311, 312,\n",
              "       313, 314, 315, 316, 317, 318, 319, 320, 321, 322, 323, 324, 325,\n",
              "       326, 327, 328, 329, 330, 331, 332, 333, 334, 335, 336, 337, 338,\n",
              "       339, 340, 341, 342, 343, 344, 345, 346, 347, 348, 349, 350, 351,\n",
              "       352, 353, 354, 355, 356, 357, 358, 359, 360, 361, 362, 363, 364,\n",
              "       365, 366, 367, 368, 369, 370, 371, 372, 373, 374, 375, 376, 377,\n",
              "       378, 379, 380, 381, 382, 383, 384, 385, 386, 387, 388, 389, 390,\n",
              "       391, 392, 393, 394, 395, 396, 397, 398, 399, 400, 401, 402, 403,\n",
              "       404, 405, 406, 407, 408, 409, 410, 411, 412, 413, 414, 415, 416,\n",
              "       417, 418, 419, 420, 421, 422, 423, 424, 425, 426, 427, 428, 429,\n",
              "       430, 431, 432, 433, 434, 435, 436, 437, 438, 439, 440, 441, 442,\n",
              "       443, 444, 445, 446, 447, 448, 449, 450, 451, 452, 453, 454, 455,\n",
              "       456, 457, 458, 459, 460, 461, 462, 463, 464, 465, 466, 467, 468,\n",
              "       469, 470, 471, 472, 473, 474, 475, 476, 477, 478, 479, 480, 481,\n",
              "       482, 483, 484, 485, 486, 487, 488, 489, 490, 491, 492, 493, 494,\n",
              "       495, 496, 497, 498, 499, 500, 501, 502, 503, 504, 505, 506, 507,\n",
              "       508, 509, 510, 511, 512, 513, 514, 515, 516, 517, 518, 519, 520,\n",
              "       521, 522, 523, 524, 525, 526, 527, 528, 529, 530, 531, 532, 533,\n",
              "       534, 535, 536, 537, 538, 539, 540, 541, 542, 543, 544, 545, 546,\n",
              "       547, 548, 549, 550])"
            ]
          },
          "metadata": {},
          "execution_count": 51
        }
      ],
      "source": [
        "#melihat isi dalam kolom\n",
        "data['produk_id'].unique()"
      ]
    },
    {
      "cell_type": "code",
      "execution_count": 52,
      "id": "a56fa0b7",
      "metadata": {
        "id": "a56fa0b7",
        "colab": {
          "base_uri": "https://localhost:8080/"
        },
        "outputId": "fb60172b-901f-4235-85f9-7428843b1b39"
      },
      "outputs": [
        {
          "output_type": "execute_result",
          "data": {
            "text/plain": [
              "array(['Produk_1', 'Produk_2', 'Produk_3', 'Produk_4', 'Produk_5',\n",
              "       'Produk_6', 'Produk_7', 'Produk_8', 'Produk_9', 'Produk_10',\n",
              "       'Produk_11', 'Produk_12', 'Produk_13', 'Produk_14', 'Produk_15',\n",
              "       'Produk_16', 'Produk_17', 'Produk_18', 'Produk_19', 'Produk_20',\n",
              "       'Produk_21', 'Produk_22', 'Produk_23', 'Produk_24', 'Produk_25',\n",
              "       'Produk_26', 'Produk_27', 'Produk_28', 'Produk_29', 'Produk_30',\n",
              "       'Produk_31', 'Produk_32', 'Produk_33', 'Produk_34', 'Produk_35',\n",
              "       'Produk_36', 'Produk_37', 'Produk_38', 'Produk_39', 'Produk_40',\n",
              "       'Produk_41', 'Produk_42', 'Produk_43', 'Produk_44', 'Produk_45',\n",
              "       'Produk_46', 'Produk_47', 'Produk_48', 'Produk_49', 'Produk_50',\n",
              "       'Produk_51', 'Produk_52', 'Produk_53', 'Produk_54', 'Produk_55',\n",
              "       'Produk_56', 'Produk_57', 'Produk_58', 'Produk_59', 'Produk_60',\n",
              "       'Produk_61', 'Produk_62', 'Produk_63', 'Produk_64', 'Produk_65',\n",
              "       'Produk_66', 'Produk_67', 'Produk_68', 'Produk_69', 'Produk_70',\n",
              "       'Produk_71', 'Produk_72', 'Produk_73', 'Produk_74', 'Produk_75',\n",
              "       'Produk_76', 'Produk_77', 'Produk_78', 'Produk_79', 'Produk_80',\n",
              "       'Produk_81', 'Produk_82', 'Produk_83', 'Produk_84', 'Produk_85',\n",
              "       'Produk_86', 'Produk_87', 'Produk_88', 'Produk_89', 'Produk_90',\n",
              "       'Produk_91', 'Produk_92', 'Produk_93', 'Produk_94', 'Produk_95',\n",
              "       'Produk_96', 'Produk_97', 'Produk_98', 'Produk_99', 'Produk_100',\n",
              "       'Produk_101', 'Produk_102', 'Produk_103', 'Produk_104',\n",
              "       'Produk_105', 'Produk_106', 'Produk_107', 'Produk_108',\n",
              "       'Produk_109', 'Produk_110', 'Produk_111', 'Produk_112',\n",
              "       'Produk_113', 'Produk_114', 'Produk_115', 'Produk_116',\n",
              "       'Produk_117', 'Produk_118', 'Produk_119', 'Produk_120',\n",
              "       'Produk_121', 'Produk_122', 'Produk_123', 'Produk_124',\n",
              "       'Produk_125', 'Produk_126', 'Produk_127', 'Produk_128',\n",
              "       'Produk_129', 'Produk_130', 'Produk_131', 'Produk_132',\n",
              "       'Produk_133', 'Produk_134', 'Produk_135', 'Produk_136',\n",
              "       'Produk_137', 'Produk_138', 'Produk_139', 'Produk_140',\n",
              "       'Produk_141', 'Produk_142', 'Produk_143', 'Produk_144',\n",
              "       'Produk_145', 'Produk_146', 'Produk_147', 'Produk_148',\n",
              "       'Produk_149', 'Produk_150', 'Produk_151', 'Produk_152',\n",
              "       'Produk_153', 'Produk_154', 'Produk_155', 'Produk_156',\n",
              "       'Produk_157', 'Produk_158', 'Produk_159', 'Produk_160',\n",
              "       'Produk_161', 'Produk_162', 'Produk_163', 'Produk_164',\n",
              "       'Produk_165', 'Produk_166', 'Produk_167', 'Produk_168',\n",
              "       'Produk_169', 'Produk_170', 'Produk_171', 'Produk_172',\n",
              "       'Produk_173', 'Produk_174', 'Produk_175', 'Produk_176',\n",
              "       'Produk_177', 'Produk_178', 'Produk_179', 'Produk_180',\n",
              "       'Produk_181', 'Produk_182', 'Produk_183', 'Produk_184',\n",
              "       'Produk_185', 'Produk_186', 'Produk_187', 'Produk_188',\n",
              "       'Produk_189', 'Produk_190', 'Produk_191', 'Produk_192',\n",
              "       'Produk_193', 'Produk_194', 'Produk_195', 'Produk_196',\n",
              "       'Produk_197', 'Produk_198', 'Produk_199', 'Produk_200',\n",
              "       'Produk_201', 'Produk_202', 'Produk_203', 'Produk_204',\n",
              "       'Produk_205', 'Produk_206', 'Produk_207', 'Produk_208',\n",
              "       'Produk_209', 'Produk_210', 'Produk_211', 'Produk_212',\n",
              "       'Produk_213', 'Produk_214', 'Produk_215', 'Produk_216',\n",
              "       'Produk_217', 'Produk_218', 'Produk_219', 'Produk_220',\n",
              "       'Produk_221', 'Produk_222', 'Produk_223', 'Produk_224',\n",
              "       'Produk_225', 'Produk_226', 'Produk_227', 'Produk_228',\n",
              "       'Produk_229', 'Produk_230', 'Produk_231', 'Produk_232',\n",
              "       'Produk_233', 'Produk_234', 'Produk_235', 'Produk_236',\n",
              "       'Produk_237', 'Produk_238', 'Produk_239', 'Produk_240',\n",
              "       'Produk_241', 'Produk_242', 'Produk_243', 'Produk_244',\n",
              "       'Produk_245', 'Produk_246', 'Produk_247', 'Produk_248',\n",
              "       'Produk_249', 'Produk_250', 'Produk_251', 'Produk_252',\n",
              "       'Produk_253', 'Produk_254', 'Produk_255', 'Produk_256',\n",
              "       'Produk_257', 'Produk_258', 'Produk_259', 'Produk_260',\n",
              "       'Produk_261', 'Produk_262', 'Produk_263', 'Produk_264',\n",
              "       'Produk_265', 'Produk_266', 'Produk_267', 'Produk_268',\n",
              "       'Produk_269', 'Produk_270', 'Produk_271', 'Produk_272',\n",
              "       'Produk_273', 'Produk_274', 'Produk_275', 'Produk_276',\n",
              "       'Produk_277', 'Produk_278', 'Produk_279', 'Produk_280',\n",
              "       'Produk_281', 'Produk_282', 'Produk_283', 'Produk_284',\n",
              "       'Produk_285', 'Produk_286', 'Produk_287', 'Produk_288',\n",
              "       'Produk_289', 'Produk_290', 'Produk_291', 'Produk_292',\n",
              "       'Produk_293', 'Produk_294', 'Produk_295', 'Produk_296',\n",
              "       'Produk_297', 'Produk_298', 'Produk_299', 'Produk_300',\n",
              "       'Produk_301', 'Produk_302', 'Produk_303', 'Produk_304',\n",
              "       'Produk_305', 'Produk_306', 'Produk_307', 'Produk_308',\n",
              "       'Produk_309', 'Produk_310', 'Produk_311', 'Produk_312',\n",
              "       'Produk_313', 'Produk_314', 'Produk_315', 'Produk_316',\n",
              "       'Produk_317', 'Produk_318', 'Produk_319', 'Produk_320',\n",
              "       'Produk_321', 'Produk_322', 'Produk_323', 'Produk_324',\n",
              "       'Produk_325', 'Produk_326', 'Produk_327', 'Produk_328',\n",
              "       'Produk_329', 'Produk_330', 'Produk_331', 'Produk_332',\n",
              "       'Produk_333', 'Produk_334', 'Produk_335', 'Produk_336',\n",
              "       'Produk_337', 'Produk_338', 'Produk_339', 'Produk_340',\n",
              "       'Produk_341', 'Produk_342', 'Produk_343', 'Produk_344',\n",
              "       'Produk_345', 'Produk_346', 'Produk_347', 'Produk_348',\n",
              "       'Produk_349', 'Produk_350', 'Produk_351', 'Produk_352',\n",
              "       'Produk_353', 'Produk_354', 'Produk_355', 'Produk_356',\n",
              "       'Produk_357', 'Produk_358', 'Produk_359', 'Produk_360',\n",
              "       'Produk_361', 'Produk_362', 'Produk_363', 'Produk_364',\n",
              "       'Produk_365', 'Produk_366', 'Produk_367', 'Produk_368',\n",
              "       'Produk_369', 'Produk_370', 'Produk_371', 'Produk_372',\n",
              "       'Produk_373', 'Produk_374', 'Produk_375', 'Produk_376',\n",
              "       'Produk_377', 'Produk_378', 'Produk_379', 'Produk_380',\n",
              "       'Produk_381', 'Produk_382', 'Produk_383', 'Produk_384',\n",
              "       'Produk_385', 'Produk_386', 'Produk_387', 'Produk_388',\n",
              "       'Produk_389', 'Produk_390', 'Produk_391', 'Produk_392',\n",
              "       'Produk_393', 'Produk_394', 'Produk_395', 'Produk_396',\n",
              "       'Produk_397', 'Produk_398', 'Produk_399', 'Produk_400',\n",
              "       'Produk_401', 'Produk_402', 'Produk_403', 'Produk_404',\n",
              "       'Produk_405', 'Produk_406', 'Produk_407', 'Produk_408',\n",
              "       'Produk_409', 'Produk_410', 'Produk_411', 'Produk_412',\n",
              "       'Produk_413', 'Produk_414', 'Produk_415', 'Produk_416',\n",
              "       'Produk_417', 'Produk_418', 'Produk_419', 'Produk_420',\n",
              "       'Produk_421', 'Produk_422', 'Produk_423', 'Produk_424',\n",
              "       'Produk_425', 'Produk_426', 'Produk_427', 'Produk_428',\n",
              "       'Produk_429', 'Produk_430', 'Produk_431', 'Produk_432',\n",
              "       'Produk_433', 'Produk_434', 'Produk_435', 'Produk_436',\n",
              "       'Produk_437', 'Produk_438', 'Produk_439', 'Produk_440',\n",
              "       'Produk_441', 'Produk_442', 'Produk_443', 'Produk_444',\n",
              "       'Produk_445', 'Produk_446', 'Produk_447', 'Produk_448',\n",
              "       'Produk_449', 'Produk_450', 'Produk_451', 'Produk_452',\n",
              "       'Produk_453', 'Produk_454', 'Produk_455', 'Produk_456',\n",
              "       'Produk_457', 'Produk_458', 'Produk_459', 'Produk_460',\n",
              "       'Produk_461', 'Produk_462', 'Produk_463', 'Produk_464',\n",
              "       'Produk_465', 'Produk_466', 'Produk_467', 'Produk_468',\n",
              "       'Produk_469', 'Produk_470', 'Produk_471', 'Produk_472',\n",
              "       'Produk_473', 'Produk_474', 'Produk_475', 'Produk_476',\n",
              "       'Produk_477', 'Produk_478', 'Produk_479', 'Produk_480',\n",
              "       'Produk_481', 'Produk_482', 'Produk_483', 'Produk_484',\n",
              "       'Produk_485', 'Produk_486', 'Produk_487', 'Produk_488',\n",
              "       'Produk_489', 'Produk_490', 'Produk_491', 'Produk_492',\n",
              "       'Produk_493', 'Produk_494', 'Produk_495', 'Produk_496',\n",
              "       'Produk_497', 'Produk_498', 'Produk_499', 'Produk_500',\n",
              "       'Produk_501', 'Produk_502', 'Produk_503', 'Produk_504',\n",
              "       'Produk_505', 'Produk_506', 'Produk_507', 'Produk_508',\n",
              "       'Produk_509', 'Produk_510', 'Produk_511', 'Produk_512',\n",
              "       'Produk_513', 'Produk_514', 'Produk_515', 'Produk_516',\n",
              "       'Produk_517', 'Produk_518', 'Produk_519', 'Produk_520',\n",
              "       'Produk_521', 'Produk_522', 'Produk_523', 'Produk_524',\n",
              "       'Produk_525', 'Produk_526', 'Produk_527', 'Produk_528',\n",
              "       'Produk_529', 'Produk_530', 'Produk_531', 'Produk_532',\n",
              "       'Produk_533', 'Produk_534', 'Produk_535', 'Produk_536',\n",
              "       'Produk_537', 'Produk_538', 'Produk_539', 'Produk_540',\n",
              "       'Produk_541', 'Produk_542', 'Produk_543', 'Produk_544',\n",
              "       'Produk_545', 'Produk_546', 'Produk_547', 'Produk_548',\n",
              "       'Produk_549', 'Produk_550'], dtype=object)"
            ]
          },
          "metadata": {},
          "execution_count": 52
        }
      ],
      "source": [
        "data['nama_produk'].unique()"
      ]
    },
    {
      "cell_type": "code",
      "source": [
        "data['kategori'].unique()"
      ],
      "metadata": {
        "colab": {
          "base_uri": "https://localhost:8080/"
        },
        "id": "l-yboItdvWw4",
        "outputId": "61583d91-387b-4fa2-8f4b-6cb57b876d71"
      },
      "id": "l-yboItdvWw4",
      "execution_count": 53,
      "outputs": [
        {
          "output_type": "execute_result",
          "data": {
            "text/plain": [
              "array(['Smartwatch', 'Headphone', 'Tablet', 'Laptop', 'Camera',\n",
              "       'Smartphone'], dtype=object)"
            ]
          },
          "metadata": {},
          "execution_count": 53
        }
      ]
    },
    {
      "cell_type": "code",
      "source": [
        "data['negara_asal'].unique()"
      ],
      "metadata": {
        "colab": {
          "base_uri": "https://localhost:8080/"
        },
        "id": "D3NSeNYrvaCt",
        "outputId": "b386076e-3958-4fb3-893d-5555ed29b9b0"
      },
      "id": "D3NSeNYrvaCt",
      "execution_count": 54,
      "outputs": [
        {
          "output_type": "execute_result",
          "data": {
            "text/plain": [
              "array(['Japan', 'Canada', 'South Korea', 'France', 'USA', 'Germany',\n",
              "       'China', 'India', 'UK'], dtype=object)"
            ]
          },
          "metadata": {},
          "execution_count": 54
        }
      ]
    },
    {
      "cell_type": "markdown",
      "id": "ff35c559",
      "metadata": {
        "id": "ff35c559"
      },
      "source": [
        "🔹 **Memilih Metode Encoding yang Cocok untuk Data**\n",
        "Pada dataset ini, terdapat empat kolom kategorik:\n",
        "1. produk_id : berisi identifikasi unik setiap produk.\n",
        "2. nama_produk : berisi nama produk.\n",
        "3. kategori : berisi kategori produk.\n",
        "4. negara_asal : berisi negara asal produk."
      ]
    },
    {
      "cell_type": "markdown",
      "source": [
        " 4b. Bandingkan berbagai metode encoding dan pilih metode yang paling sesuai untuk setiap kolom. Jelaskan alasan pemilihan metode tersebut.\n",
        "\n",
        "Jawab:\n",
        "\n",
        " **produk_id**  \n",
        "\n",
        "Kolom ini bersifat sebagai identifier unik, bukan fitur untuk model. Jadi, tidak perlu diubah menjadi angka atau kategori lain.\n",
        "\n",
        "**nama_produk**\n",
        "Nama produk adalah teks unik untuk setiap produk, sehingga tidak relevan untuk encoding. Jika ingin menggunakannya, bisa diekstrak fitur tambahan seperti panjang nama atau kata kunci tertentu.\n",
        "\n",
        "**kategori**\n",
        "Metode yang cocok digunakan adalah One-Hot Encoding (OHE), karena kategori tidak memiliki urutan tertentu (yaitu: \"Laptop\", \"Smartphone\", \"Aksesoris\"). Sehingga One-Hot Encoding (OHE) lebih cocok untuk digunakan.\n",
        "\n",
        "**negara_asal**\n",
        "Jumlah negara tidak terlalu banyak. Sehingga, metode yang cocok digunakan adalah One-Hot Encoding (OHE)\n",
        "\n"
      ],
      "metadata": {
        "id": "1K5vtnG0eWxF"
      },
      "id": "1K5vtnG0eWxF"
    },
    {
      "cell_type": "markdown",
      "source": [
        "**Kategori**"
      ],
      "metadata": {
        "id": "zSJBnsB24eSY"
      },
      "id": "zSJBnsB24eSY"
    },
    {
      "cell_type": "code",
      "source": [
        "# Data kategori\n",
        "data = pd.DataFrame({'kategori': ['Smartwatch', 'Headphone', 'Tablet', 'Laptop', 'Camera', 'Smartphone']})\n",
        "\n",
        "# One-Hot Encoding\n",
        "data_encoded = pd.get_dummies(data, columns=['kategori'], prefix='kategori').astype(int)\n",
        "\n",
        "# Menampilkan hasil\n",
        "print(data_encoded)"
      ],
      "metadata": {
        "colab": {
          "base_uri": "https://localhost:8080/"
        },
        "id": "LG414R2t1JQ2",
        "outputId": "b619948b-94fa-42cb-ea3f-7c714c28ce8a"
      },
      "id": "LG414R2t1JQ2",
      "execution_count": 73,
      "outputs": [
        {
          "output_type": "stream",
          "name": "stdout",
          "text": [
            "   kategori_Camera  kategori_Headphone  kategori_Laptop  kategori_Smartphone  \\\n",
            "0                0                   0                0                    0   \n",
            "1                0                   1                0                    0   \n",
            "2                0                   0                0                    0   \n",
            "3                0                   0                1                    0   \n",
            "4                1                   0                0                    0   \n",
            "5                0                   0                0                    1   \n",
            "\n",
            "   kategori_Smartwatch  kategori_Tablet  \n",
            "0                    1                0  \n",
            "1                    0                0  \n",
            "2                    0                1  \n",
            "3                    0                0  \n",
            "4                    0                0  \n",
            "5                    0                0  \n"
          ]
        }
      ]
    },
    {
      "cell_type": "code",
      "execution_count": 74,
      "id": "795407db",
      "metadata": {
        "id": "795407db",
        "colab": {
          "base_uri": "https://localhost:8080/"
        },
        "outputId": "abbda9c8-4ef0-4adb-c63c-c33f81ce7640"
      },
      "outputs": [
        {
          "output_type": "stream",
          "name": "stdout",
          "text": [
            "0    Smartwatch\n",
            "1     Headphone\n",
            "2        Tablet\n",
            "3        Laptop\n",
            "4        Camera\n",
            "Name: kategori, dtype: object\n"
          ]
        }
      ],
      "source": [
        "print(data['kategori'].head())"
      ]
    },
    {
      "cell_type": "code",
      "execution_count": 75,
      "id": "5772264b",
      "metadata": {
        "id": "5772264b",
        "colab": {
          "base_uri": "https://localhost:8080/"
        },
        "outputId": "d4aacace-089c-4afd-e536-c2a0f61c2ac9"
      },
      "outputs": [
        {
          "output_type": "execute_result",
          "data": {
            "text/plain": [
              "array(['Smartwatch', 'Headphone', 'Tablet', 'Laptop', 'Camera',\n",
              "       'Smartphone'], dtype=object)"
            ]
          },
          "metadata": {},
          "execution_count": 75
        }
      ],
      "source": [
        "data['kategori'].unique()"
      ]
    },
    {
      "cell_type": "markdown",
      "source": [
        "Interpretasi Baris:\n",
        "1. Baris 0 → kategori_Smartwatch = 1.\n",
        "Produk ini adalah Smartwatch.\n",
        "2. Baris 1 → kategori_Headphone = 1.\n",
        "Produk ini adalah Headphone.\n",
        "3. Baris 2 → kategori_Tablet = 1.\n",
        "Produk ini adalah Tablet.\n",
        "4. Baris 3 → kategori_Laptop = 1.\n",
        "Produk ini adalah Laptop.\n",
        "5. Baris 4 → kategori_Camera = 1.\n",
        "Produk ini adalah Camera.\n",
        "6. Baris 5 → kategori_Smartphone = 1.\n",
        "Produk ini adalah Smartphone."
      ],
      "metadata": {
        "id": "8K5NShVH9CJs"
      },
      "id": "8K5NShVH9CJs"
    },
    {
      "cell_type": "markdown",
      "id": "8b9e833e",
      "metadata": {
        "id": "8b9e833e"
      },
      "source": [
        "**negara_asal**"
      ]
    },
    {
      "cell_type": "code",
      "source": [
        "# Data Negara Asal\n",
        "data = pd.DataFrame({'negara_asal': ['Japan', 'Canada', 'South Korea', 'France', 'USA', 'Germany',\n",
        "       'China', 'India', 'UK']})\n",
        "\n",
        "# One-Hot Encoding\n",
        "data_encoded = pd.get_dummies(data, columns=['negara_asal'], prefix='negara').astype(int)\n",
        "\n",
        "# Menampilkan hasil\n",
        "print(data_encoded)"
      ],
      "metadata": {
        "id": "CLCOEOol3MFU",
        "colab": {
          "base_uri": "https://localhost:8080/"
        },
        "outputId": "8f2611d7-a385-4a62-c269-28b2dcff0d43"
      },
      "id": "CLCOEOol3MFU",
      "execution_count": 76,
      "outputs": [
        {
          "output_type": "stream",
          "name": "stdout",
          "text": [
            "   negara_Canada  negara_China  negara_France  negara_Germany  negara_India  \\\n",
            "0              0             0              0               0             0   \n",
            "1              1             0              0               0             0   \n",
            "2              0             0              0               0             0   \n",
            "3              0             0              1               0             0   \n",
            "4              0             0              0               0             0   \n",
            "5              0             0              0               1             0   \n",
            "6              0             1              0               0             0   \n",
            "7              0             0              0               0             1   \n",
            "8              0             0              0               0             0   \n",
            "\n",
            "   negara_Japan  negara_South Korea  negara_UK  negara_USA  \n",
            "0             1                   0          0           0  \n",
            "1             0                   0          0           0  \n",
            "2             0                   1          0           0  \n",
            "3             0                   0          0           0  \n",
            "4             0                   0          0           1  \n",
            "5             0                   0          0           0  \n",
            "6             0                   0          0           0  \n",
            "7             0                   0          0           0  \n",
            "8             0                   0          1           0  \n"
          ]
        }
      ]
    },
    {
      "cell_type": "markdown",
      "source": [
        "Interpretasi Data:\n",
        "1. Baris 0 → negara_Japan = 1.\n",
        "Negara asal dari Jepang.\n",
        "2. Baris 1 → negara_China = 1.\n",
        "Negara asal dari China.\n",
        "3. Baris 2 → negara_South Korea = 1.\n",
        "Negara asal dari Korea Selatan.\n",
        "4. Baris 3 → negara_France = 1.\n",
        "Negara asal dari Prancis.\n",
        "5. Baris 4 → negara_USA = 1.\n",
        "Negara asal dari Amerika Serikat.\n",
        "6. Baris 5 → negara_Germany = 1.\n",
        "Negara asal dari Jerman.\n",
        "7. Baris 6 → negara_India = 1.\n",
        "Negara asal dari India.\n",
        "8. Baris 7 → negara_UK = 1.\n",
        "Negara asal dari Inggris."
      ],
      "metadata": {
        "id": "g99ATShs3NVi"
      },
      "id": "g99ATShs3NVi"
    },
    {
      "cell_type": "code",
      "execution_count": 79,
      "id": "8f9e0dad",
      "metadata": {
        "id": "8f9e0dad",
        "colab": {
          "base_uri": "https://localhost:8080/"
        },
        "outputId": "249d9317-664f-4981-d2f4-efadeb4adecb"
      },
      "outputs": [
        {
          "output_type": "stream",
          "name": "stdout",
          "text": [
            "<class 'pandas.core.frame.DataFrame'>\n",
            "RangeIndex: 9 entries, 0 to 8\n",
            "Data columns (total 1 columns):\n",
            " #   Column       Non-Null Count  Dtype \n",
            "---  ------       --------------  ----- \n",
            " 0   negara_asal  9 non-null      object\n",
            "dtypes: object(1)\n",
            "memory usage: 204.0+ bytes\n"
          ]
        }
      ],
      "source": [
        "data.info()"
      ]
    }
  ],
  "metadata": {
    "kernelspec": {
      "display_name": "Python 3 (ipykernel)",
      "language": "python",
      "name": "python3"
    },
    "language_info": {
      "codemirror_mode": {
        "name": "ipython",
        "version": 3
      },
      "file_extension": ".py",
      "mimetype": "text/x-python",
      "name": "python",
      "nbconvert_exporter": "python",
      "pygments_lexer": "ipython3",
      "version": "3.11.4"
    },
    "colab": {
      "provenance": []
    }
  },
  "nbformat": 4,
  "nbformat_minor": 5
}